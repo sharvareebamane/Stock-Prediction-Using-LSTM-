{
 "cells": [
  {
   "cell_type": "code",
   "execution_count": 1,
   "metadata": {
    "id": "CLeYzkSpnogv"
   },
   "outputs": [],
   "source": [
    "import pandas as pd"
   ]
  },
  {
   "cell_type": "code",
   "execution_count": 3,
   "metadata": {
    "id": "zTMZSKlRo306"
   },
   "outputs": [],
   "source": [
    "df=pd.read_csv('SM.csv')"
   ]
  },
  {
   "cell_type": "markdown",
   "metadata": {
    "id": "R6buGGBeR_y0"
   },
   "source": [
    "# New Section"
   ]
  },
  {
   "cell_type": "code",
   "execution_count": 4,
   "metadata": {
    "colab": {
     "base_uri": "https://localhost:8080/",
     "height": 206
    },
    "id": "s_ZsvBKjxVdj",
    "outputId": "a3cdbffa-2ff0-44d0-9ab5-789b30766371"
   },
   "outputs": [
    {
     "data": {
      "text/html": [
       "<div>\n",
       "<style scoped>\n",
       "    .dataframe tbody tr th:only-of-type {\n",
       "        vertical-align: middle;\n",
       "    }\n",
       "\n",
       "    .dataframe tbody tr th {\n",
       "        vertical-align: top;\n",
       "    }\n",
       "\n",
       "    .dataframe thead th {\n",
       "        text-align: right;\n",
       "    }\n",
       "</style>\n",
       "<table border=\"1\" class=\"dataframe\">\n",
       "  <thead>\n",
       "    <tr style=\"text-align: right;\">\n",
       "      <th></th>\n",
       "      <th>Unnamed: 0</th>\n",
       "      <th>symbol</th>\n",
       "      <th>date</th>\n",
       "      <th>close</th>\n",
       "      <th>high</th>\n",
       "      <th>low</th>\n",
       "      <th>open</th>\n",
       "      <th>volume</th>\n",
       "      <th>adjClose</th>\n",
       "      <th>adjHigh</th>\n",
       "      <th>adjLow</th>\n",
       "      <th>adjOpen</th>\n",
       "      <th>adjVolume</th>\n",
       "      <th>divCash</th>\n",
       "      <th>splitFactor</th>\n",
       "    </tr>\n",
       "  </thead>\n",
       "  <tbody>\n",
       "    <tr>\n",
       "      <th>0</th>\n",
       "      <td>0</td>\n",
       "      <td>AAPL</td>\n",
       "      <td>2015-05-27 00:00:00+00:00</td>\n",
       "      <td>132.045</td>\n",
       "      <td>132.260</td>\n",
       "      <td>130.05</td>\n",
       "      <td>130.34</td>\n",
       "      <td>45833246</td>\n",
       "      <td>121.682558</td>\n",
       "      <td>121.880685</td>\n",
       "      <td>119.844118</td>\n",
       "      <td>120.111360</td>\n",
       "      <td>45833246</td>\n",
       "      <td>0.0</td>\n",
       "      <td>1.0</td>\n",
       "    </tr>\n",
       "    <tr>\n",
       "      <th>1</th>\n",
       "      <td>1</td>\n",
       "      <td>AAPL</td>\n",
       "      <td>2015-05-28 00:00:00+00:00</td>\n",
       "      <td>131.780</td>\n",
       "      <td>131.950</td>\n",
       "      <td>131.10</td>\n",
       "      <td>131.86</td>\n",
       "      <td>30733309</td>\n",
       "      <td>121.438354</td>\n",
       "      <td>121.595013</td>\n",
       "      <td>120.811718</td>\n",
       "      <td>121.512076</td>\n",
       "      <td>30733309</td>\n",
       "      <td>0.0</td>\n",
       "      <td>1.0</td>\n",
       "    </tr>\n",
       "    <tr>\n",
       "      <th>2</th>\n",
       "      <td>2</td>\n",
       "      <td>AAPL</td>\n",
       "      <td>2015-05-29 00:00:00+00:00</td>\n",
       "      <td>130.280</td>\n",
       "      <td>131.450</td>\n",
       "      <td>129.90</td>\n",
       "      <td>131.23</td>\n",
       "      <td>50884452</td>\n",
       "      <td>120.056069</td>\n",
       "      <td>121.134251</td>\n",
       "      <td>119.705890</td>\n",
       "      <td>120.931516</td>\n",
       "      <td>50884452</td>\n",
       "      <td>0.0</td>\n",
       "      <td>1.0</td>\n",
       "    </tr>\n",
       "    <tr>\n",
       "      <th>3</th>\n",
       "      <td>3</td>\n",
       "      <td>AAPL</td>\n",
       "      <td>2015-06-01 00:00:00+00:00</td>\n",
       "      <td>130.535</td>\n",
       "      <td>131.390</td>\n",
       "      <td>130.05</td>\n",
       "      <td>131.20</td>\n",
       "      <td>32112797</td>\n",
       "      <td>120.291057</td>\n",
       "      <td>121.078960</td>\n",
       "      <td>119.844118</td>\n",
       "      <td>120.903870</td>\n",
       "      <td>32112797</td>\n",
       "      <td>0.0</td>\n",
       "      <td>1.0</td>\n",
       "    </tr>\n",
       "    <tr>\n",
       "      <th>4</th>\n",
       "      <td>4</td>\n",
       "      <td>AAPL</td>\n",
       "      <td>2015-06-02 00:00:00+00:00</td>\n",
       "      <td>129.960</td>\n",
       "      <td>130.655</td>\n",
       "      <td>129.32</td>\n",
       "      <td>129.86</td>\n",
       "      <td>33667627</td>\n",
       "      <td>119.761181</td>\n",
       "      <td>120.401640</td>\n",
       "      <td>119.171406</td>\n",
       "      <td>119.669029</td>\n",
       "      <td>33667627</td>\n",
       "      <td>0.0</td>\n",
       "      <td>1.0</td>\n",
       "    </tr>\n",
       "  </tbody>\n",
       "</table>\n",
       "</div>"
      ],
      "text/plain": [
       "   Unnamed: 0 symbol                       date    close     high     low  \\\n",
       "0           0   AAPL  2015-05-27 00:00:00+00:00  132.045  132.260  130.05   \n",
       "1           1   AAPL  2015-05-28 00:00:00+00:00  131.780  131.950  131.10   \n",
       "2           2   AAPL  2015-05-29 00:00:00+00:00  130.280  131.450  129.90   \n",
       "3           3   AAPL  2015-06-01 00:00:00+00:00  130.535  131.390  130.05   \n",
       "4           4   AAPL  2015-06-02 00:00:00+00:00  129.960  130.655  129.32   \n",
       "\n",
       "     open    volume    adjClose     adjHigh      adjLow     adjOpen  \\\n",
       "0  130.34  45833246  121.682558  121.880685  119.844118  120.111360   \n",
       "1  131.86  30733309  121.438354  121.595013  120.811718  121.512076   \n",
       "2  131.23  50884452  120.056069  121.134251  119.705890  120.931516   \n",
       "3  131.20  32112797  120.291057  121.078960  119.844118  120.903870   \n",
       "4  129.86  33667627  119.761181  120.401640  119.171406  119.669029   \n",
       "\n",
       "   adjVolume  divCash  splitFactor  \n",
       "0   45833246      0.0          1.0  \n",
       "1   30733309      0.0          1.0  \n",
       "2   50884452      0.0          1.0  \n",
       "3   32112797      0.0          1.0  \n",
       "4   33667627      0.0          1.0  "
      ]
     },
     "execution_count": 4,
     "metadata": {},
     "output_type": "execute_result"
    }
   ],
   "source": [
    "df.head()"
   ]
  },
  {
   "cell_type": "code",
   "execution_count": 5,
   "metadata": {
    "colab": {
     "base_uri": "https://localhost:8080/",
     "height": 206
    },
    "id": "peJfkK0CxmGh",
    "outputId": "c0159d1f-a931-436c-94d7-daaaa4ba1c12"
   },
   "outputs": [
    {
     "data": {
      "text/html": [
       "<div>\n",
       "<style scoped>\n",
       "    .dataframe tbody tr th:only-of-type {\n",
       "        vertical-align: middle;\n",
       "    }\n",
       "\n",
       "    .dataframe tbody tr th {\n",
       "        vertical-align: top;\n",
       "    }\n",
       "\n",
       "    .dataframe thead th {\n",
       "        text-align: right;\n",
       "    }\n",
       "</style>\n",
       "<table border=\"1\" class=\"dataframe\">\n",
       "  <thead>\n",
       "    <tr style=\"text-align: right;\">\n",
       "      <th></th>\n",
       "      <th>Unnamed: 0</th>\n",
       "      <th>symbol</th>\n",
       "      <th>date</th>\n",
       "      <th>close</th>\n",
       "      <th>high</th>\n",
       "      <th>low</th>\n",
       "      <th>open</th>\n",
       "      <th>volume</th>\n",
       "      <th>adjClose</th>\n",
       "      <th>adjHigh</th>\n",
       "      <th>adjLow</th>\n",
       "      <th>adjOpen</th>\n",
       "      <th>adjVolume</th>\n",
       "      <th>divCash</th>\n",
       "      <th>splitFactor</th>\n",
       "    </tr>\n",
       "  </thead>\n",
       "  <tbody>\n",
       "    <tr>\n",
       "      <th>1253</th>\n",
       "      <td>1253</td>\n",
       "      <td>AAPL</td>\n",
       "      <td>2020-05-18 00:00:00+00:00</td>\n",
       "      <td>314.96</td>\n",
       "      <td>316.50</td>\n",
       "      <td>310.3241</td>\n",
       "      <td>313.17</td>\n",
       "      <td>33843125</td>\n",
       "      <td>314.96</td>\n",
       "      <td>316.50</td>\n",
       "      <td>310.3241</td>\n",
       "      <td>313.17</td>\n",
       "      <td>33843125</td>\n",
       "      <td>0.0</td>\n",
       "      <td>1.0</td>\n",
       "    </tr>\n",
       "    <tr>\n",
       "      <th>1254</th>\n",
       "      <td>1254</td>\n",
       "      <td>AAPL</td>\n",
       "      <td>2020-05-19 00:00:00+00:00</td>\n",
       "      <td>313.14</td>\n",
       "      <td>318.52</td>\n",
       "      <td>313.0100</td>\n",
       "      <td>315.03</td>\n",
       "      <td>25432385</td>\n",
       "      <td>313.14</td>\n",
       "      <td>318.52</td>\n",
       "      <td>313.0100</td>\n",
       "      <td>315.03</td>\n",
       "      <td>25432385</td>\n",
       "      <td>0.0</td>\n",
       "      <td>1.0</td>\n",
       "    </tr>\n",
       "    <tr>\n",
       "      <th>1255</th>\n",
       "      <td>1255</td>\n",
       "      <td>AAPL</td>\n",
       "      <td>2020-05-20 00:00:00+00:00</td>\n",
       "      <td>319.23</td>\n",
       "      <td>319.52</td>\n",
       "      <td>316.2000</td>\n",
       "      <td>316.68</td>\n",
       "      <td>27876215</td>\n",
       "      <td>319.23</td>\n",
       "      <td>319.52</td>\n",
       "      <td>316.2000</td>\n",
       "      <td>316.68</td>\n",
       "      <td>27876215</td>\n",
       "      <td>0.0</td>\n",
       "      <td>1.0</td>\n",
       "    </tr>\n",
       "    <tr>\n",
       "      <th>1256</th>\n",
       "      <td>1256</td>\n",
       "      <td>AAPL</td>\n",
       "      <td>2020-05-21 00:00:00+00:00</td>\n",
       "      <td>316.85</td>\n",
       "      <td>320.89</td>\n",
       "      <td>315.8700</td>\n",
       "      <td>318.66</td>\n",
       "      <td>25672211</td>\n",
       "      <td>316.85</td>\n",
       "      <td>320.89</td>\n",
       "      <td>315.8700</td>\n",
       "      <td>318.66</td>\n",
       "      <td>25672211</td>\n",
       "      <td>0.0</td>\n",
       "      <td>1.0</td>\n",
       "    </tr>\n",
       "    <tr>\n",
       "      <th>1257</th>\n",
       "      <td>1257</td>\n",
       "      <td>AAPL</td>\n",
       "      <td>2020-05-22 00:00:00+00:00</td>\n",
       "      <td>318.89</td>\n",
       "      <td>319.23</td>\n",
       "      <td>315.3500</td>\n",
       "      <td>315.77</td>\n",
       "      <td>20450754</td>\n",
       "      <td>318.89</td>\n",
       "      <td>319.23</td>\n",
       "      <td>315.3500</td>\n",
       "      <td>315.77</td>\n",
       "      <td>20450754</td>\n",
       "      <td>0.0</td>\n",
       "      <td>1.0</td>\n",
       "    </tr>\n",
       "  </tbody>\n",
       "</table>\n",
       "</div>"
      ],
      "text/plain": [
       "      Unnamed: 0 symbol                       date   close    high       low  \\\n",
       "1253        1253   AAPL  2020-05-18 00:00:00+00:00  314.96  316.50  310.3241   \n",
       "1254        1254   AAPL  2020-05-19 00:00:00+00:00  313.14  318.52  313.0100   \n",
       "1255        1255   AAPL  2020-05-20 00:00:00+00:00  319.23  319.52  316.2000   \n",
       "1256        1256   AAPL  2020-05-21 00:00:00+00:00  316.85  320.89  315.8700   \n",
       "1257        1257   AAPL  2020-05-22 00:00:00+00:00  318.89  319.23  315.3500   \n",
       "\n",
       "        open    volume  adjClose  adjHigh    adjLow  adjOpen  adjVolume  \\\n",
       "1253  313.17  33843125    314.96   316.50  310.3241   313.17   33843125   \n",
       "1254  315.03  25432385    313.14   318.52  313.0100   315.03   25432385   \n",
       "1255  316.68  27876215    319.23   319.52  316.2000   316.68   27876215   \n",
       "1256  318.66  25672211    316.85   320.89  315.8700   318.66   25672211   \n",
       "1257  315.77  20450754    318.89   319.23  315.3500   315.77   20450754   \n",
       "\n",
       "      divCash  splitFactor  \n",
       "1253      0.0          1.0  \n",
       "1254      0.0          1.0  \n",
       "1255      0.0          1.0  \n",
       "1256      0.0          1.0  \n",
       "1257      0.0          1.0  "
      ]
     },
     "execution_count": 5,
     "metadata": {},
     "output_type": "execute_result"
    }
   ],
   "source": [
    "df.tail()"
   ]
  },
  {
   "cell_type": "code",
   "execution_count": 7,
   "metadata": {
    "id": "4kFixGyyxt1i"
   },
   "outputs": [],
   "source": [
    "df1=df.reset_index()['close']"
   ]
  },
  {
   "cell_type": "code",
   "execution_count": 8,
   "metadata": {
    "colab": {
     "base_uri": "https://localhost:8080/"
    },
    "id": "oEbSFXaWxy5M",
    "outputId": "812a7823-ffb4-40de-b4c0-8b86393deb1a"
   },
   "outputs": [
    {
     "data": {
      "text/plain": [
       "0       132.045\n",
       "1       131.780\n",
       "2       130.280\n",
       "3       130.535\n",
       "4       129.960\n",
       "         ...   \n",
       "1253    314.960\n",
       "1254    313.140\n",
       "1255    319.230\n",
       "1256    316.850\n",
       "1257    318.890\n",
       "Name: close, Length: 1258, dtype: float64"
      ]
     },
     "execution_count": 8,
     "metadata": {},
     "output_type": "execute_result"
    }
   ],
   "source": [
    "df1"
   ]
  },
  {
   "cell_type": "code",
   "execution_count": 9,
   "metadata": {
    "colab": {
     "base_uri": "https://localhost:8080/",
     "height": 447
    },
    "id": "34O4k5Pfx6uZ",
    "outputId": "f2cc75ab-4000-4378-8909-f8e96e92176e"
   },
   "outputs": [
    {
     "data": {
      "text/plain": [
       "[<matplotlib.lines.Line2D at 0x13a61ec37c0>]"
      ]
     },
     "execution_count": 9,
     "metadata": {},
     "output_type": "execute_result"
    },
    {
     "data": {
      "image/png": "[encoded data removed]",
      "text/plain": [
       "<Figure size 432x288 with 1 Axes>"
      ]
     },
     "metadata": {
      "needs_background": "light"
     },
     "output_type": "display_data"
    }
   ],
   "source": [
    "import matplotlib.pyplot as plt\n",
    "plt.plot(df1)"
   ]
  },
  {
   "cell_type": "markdown",
   "metadata": {
    "id": "0R42cdefTjmT"
   },
   "source": [
    "### LSTM are sensitive to the scale of the data. so we apply MinMax scaler"
   ]
  },
  {
   "cell_type": "code",
   "execution_count": 10,
   "metadata": {
    "id": "Fjby4kWgyJRi"
   },
   "outputs": [],
   "source": [
    "import numpy as np"
   ]
  },
  {
   "cell_type": "code",
   "execution_count": 11,
   "metadata": {
    "colab": {
     "base_uri": "https://localhost:8080/"
    },
    "id": "hdwfLpIdyUvp",
    "outputId": "35090998-ea7a-4690-e8e4-a6be1d025a41"
   },
   "outputs": [
    {
     "data": {
      "text/plain": [
       "0       132.045\n",
       "1       131.780\n",
       "2       130.280\n",
       "3       130.535\n",
       "4       129.960\n",
       "         ...   \n",
       "1253    314.960\n",
       "1254    313.140\n",
       "1255    319.230\n",
       "1256    316.850\n",
       "1257    318.890\n",
       "Name: close, Length: 1258, dtype: float64"
      ]
     },
     "execution_count": 11,
     "metadata": {},
     "output_type": "execute_result"
    }
   ],
   "source": [
    "df1"
   ]
  },
  {
   "cell_type": "code",
   "execution_count": 12,
   "metadata": {
    "id": "jEDTYv72ycDk"
   },
   "outputs": [],
   "source": [
    "from sklearn.preprocessing import MinMaxScaler\n",
    "scaler=MinMaxScaler(feature_range=(0,1))\n",
    "df1=scaler.fit_transform(np.array(df1).reshape(-1,1))"
   ]
  },
  {
   "cell_type": "code",
   "execution_count": 13,
   "metadata": {
    "colab": {
     "base_uri": "https://localhost:8080/"
    },
    "id": "-SRvUFBhygW8",
    "outputId": "457744ab-b8e5-4f64-f20b-72884a42692d"
   },
   "outputs": [
    {
     "name": "stdout",
     "output_type": "stream",
     "text": [
      "[[0.17607447]\n",
      " [0.17495567]\n",
      " [0.16862282]\n",
      " ...\n",
      " [0.96635143]\n",
      " [0.9563033 ]\n",
      " [0.96491598]]\n"
     ]
    }
   ],
   "source": [
    "print(df1)"
   ]
  },
  {
   "cell_type": "code",
   "execution_count": 14,
   "metadata": {
    "id": "8R9drtueynxx"
   },
   "outputs": [],
   "source": [
    "##splitting dataset into train and test split\n",
    "training_size=int(len(df1)*0.65)\n",
    "test_size=len(df1)-training_size\n",
    "train_data,test_data=df1[0:training_size,:],df1[training_size:len(df1),:1]"
   ]
  },
  {
   "cell_type": "code",
   "execution_count": 15,
   "metadata": {
    "colab": {
     "base_uri": "https://localhost:8080/"
    },
    "id": "YoHvJP_2ytLz",
    "outputId": "34e67e66-15f3-44fd-e9ee-d5176f3dd444"
   },
   "outputs": [
    {
     "data": {
      "text/plain": [
       "(817, 441)"
      ]
     },
     "execution_count": 15,
     "metadata": {},
     "output_type": "execute_result"
    }
   ],
   "source": [
    "training_size,test_size"
   ]
  },
  {
   "cell_type": "code",
   "execution_count": 16,
   "metadata": {
    "colab": {
     "base_uri": "https://localhost:8080/"
    },
    "id": "gEhEu3opyxaH",
    "outputId": "aed2ae06-45a3-47e1-e417-2a48e5efb5ac"
   },
   "outputs": [
    {
     "data": {
      "text/plain": [
       "array([[0.17607447],\n",
       "       [0.17495567],\n",
       "       [0.16862282],\n",
       "       [0.1696994 ],\n",
       "       [0.16727181],\n",
       "       [0.16794731],\n",
       "       [0.16473866],\n",
       "       [0.16174111],\n",
       "       [0.1581525 ],\n",
       "       [0.15654817],\n",
       "       [0.16271215],\n",
       "       [0.1614878 ],\n",
       "       [0.1554927 ],\n",
       "       [0.15443722],\n",
       "       [0.15730811],\n",
       "       [0.15604154],\n",
       "       [0.15849025],\n",
       "       [0.15308621],\n",
       "       [0.15735033],\n",
       "       [0.15490163],\n",
       "       [0.15946129],\n",
       "       [0.15688592],\n",
       "       [0.1537195 ],\n",
       "       [0.14434687],\n",
       "       [0.14812547],\n",
       "       [0.15308621],\n",
       "       [0.15241071],\n",
       "       [0.15055307],\n",
       "       [0.14924428],\n",
       "       [0.13607194],\n",
       "       [0.12551718],\n",
       "       [0.13906949],\n",
       "       [0.14911762],\n",
       "       [0.14890653],\n",
       "       [0.15401503],\n",
       "       [0.16115005],\n",
       "       [0.16583636],\n",
       "       [0.17618002],\n",
       "       [0.17060711],\n",
       "       [0.14725998],\n",
       "       [0.14700667],\n",
       "       [0.14422021],\n",
       "       [0.13691632],\n",
       "       [0.13949168],\n",
       "       [0.13784514],\n",
       "       [0.13522756],\n",
       "       [0.13071012],\n",
       "       [0.11863548],\n",
       "       [0.10259225],\n",
       "       [0.1058009 ],\n",
       "       [0.10466098],\n",
       "       [0.10630752],\n",
       "       [0.12403952],\n",
       "       [0.09773706],\n",
       "       [0.10512539],\n",
       "       [0.10474542],\n",
       "       [0.10816516],\n",
       "       [0.11323144],\n",
       "       [0.11044499],\n",
       "       [0.10415435],\n",
       "       [0.09419066],\n",
       "       [0.06510175],\n",
       "       [0.05395592],\n",
       "       [0.0565735 ],\n",
       "       [0.08169383],\n",
       "       [0.09533058],\n",
       "       [0.09689268],\n",
       "       [0.09465507],\n",
       "       [0.07337668],\n",
       "       [0.09288187],\n",
       "       [0.08456472],\n",
       "       [0.07992063],\n",
       "       [0.09275521],\n",
       "       [0.0836359 ],\n",
       "       [0.09385291],\n",
       "       [0.10077683],\n",
       "       [0.10542092],\n",
       "       [0.10951617],\n",
       "       [0.11006502],\n",
       "       [0.09955248],\n",
       "       [0.09756818],\n",
       "       [0.10499873],\n",
       "       [0.09735709],\n",
       "       [0.10124124],\n",
       "       [0.10411213],\n",
       "       [0.10288778],\n",
       "       [0.09330406],\n",
       "       [0.07903403],\n",
       "       [0.08426919],\n",
       "       [0.08122942],\n",
       "       [0.08460694],\n",
       "       [0.0862957 ],\n",
       "       [0.08853331],\n",
       "       [0.0862957 ],\n",
       "       [0.08089167],\n",
       "       [0.09195305],\n",
       "       [0.08975766],\n",
       "       [0.09055982],\n",
       "       [0.08388922],\n",
       "       [0.09085536],\n",
       "       [0.0873934 ],\n",
       "       [0.09030651],\n",
       "       [0.09891919],\n",
       "       [0.09887697],\n",
       "       [0.10622309],\n",
       "       [0.1213375 ],\n",
       "       [0.10529427],\n",
       "       [0.10221228],\n",
       "       [0.12213966],\n",
       "       [0.12745926],\n",
       "       [0.1231107 ],\n",
       "       [0.1302035 ],\n",
       "       [0.13607194],\n",
       "       [0.13366546],\n",
       "       [0.1291058 ],\n",
       "       [0.12969687],\n",
       "       [0.12762813],\n",
       "       [0.1115849 ],\n",
       "       [0.10879845],\n",
       "       [0.1071519 ],\n",
       "       [0.09288187],\n",
       "       [0.10062906],\n",
       "       [0.09858144],\n",
       "       [0.11378029],\n",
       "       [0.12007093],\n",
       "       [0.12226632],\n",
       "       [0.11572237],\n",
       "       [0.12049312],\n",
       "       [0.1169045 ],\n",
       "       [0.11597568],\n",
       "       [0.11804441],\n",
       "       [0.11399139],\n",
       "       [0.10951617],\n",
       "       [0.10495651],\n",
       "       [0.1211264 ],\n",
       "       [0.11795998],\n",
       "       [0.11774888],\n",
       "       [0.10672971],\n",
       "       [0.10905176],\n",
       "       [0.09642827],\n",
       "       [0.09347294],\n",
       "       [0.08507135],\n",
       "       [0.08865997],\n",
       "       [0.07869628],\n",
       "       [0.06624166],\n",
       "       [0.07173014],\n",
       "       [0.07130795],\n",
       "       [0.07713417],\n",
       "       [0.07468547],\n",
       "       [0.06957697],\n",
       "       [0.07768302],\n",
       "       [0.07168792],\n",
       "       [0.0629908 ],\n",
       "       [0.06337077],\n",
       "       [0.05222494],\n",
       "       [0.04373892],\n",
       "       [0.02579583],\n",
       "       [0.027949  ],\n",
       "       [0.03457739],\n",
       "       [0.04061471],\n",
       "       [0.02976442],\n",
       "       [0.03875707],\n",
       "       [0.02866672],\n",
       "       [0.02668243],\n",
       "       [0.02723128],\n",
       "       [0.02516254],\n",
       "       [0.04677869],\n",
       "       [0.03841932],\n",
       "       [0.04074137],\n",
       "       [0.01300346],\n",
       "       [0.01583214],\n",
       "       [0.02955332],\n",
       "       [0.02571139],\n",
       "       [0.01747868],\n",
       "       [0.02537364],\n",
       "       [0.02642911],\n",
       "       [0.0155366 ],\n",
       "       [0.01971629],\n",
       "       [0.01963185],\n",
       "       [0.01659208],\n",
       "       [0.01418559],\n",
       "       [0.01540995],\n",
       "       [0.02659799],\n",
       "       [0.03284641],\n",
       "       [0.02499367],\n",
       "       [0.02406485],\n",
       "       [0.02761125],\n",
       "       [0.01836528],\n",
       "       [0.02431816],\n",
       "       [0.02710462],\n",
       "       [0.0277379 ],\n",
       "       [0.02680909],\n",
       "       [0.04302119],\n",
       "       [0.04395001],\n",
       "       [0.04711644],\n",
       "       [0.05349151],\n",
       "       [0.04867854],\n",
       "       [0.04513215],\n",
       "       [0.04551212],\n",
       "       [0.04572321],\n",
       "       [0.05032509],\n",
       "       [0.05142278],\n",
       "       [0.0601199 ],\n",
       "       [0.06598835],\n",
       "       [0.06527062],\n",
       "       [0.06577725],\n",
       "       [0.06573503],\n",
       "       [0.06915477],\n",
       "       [0.06666385],\n",
       "       [0.06472178],\n",
       "       [0.06269526],\n",
       "       [0.0732078 ],\n",
       "       [0.08114498],\n",
       "       [0.0787385 ],\n",
       "       [0.0829604 ],\n",
       "       [0.08773115],\n",
       "       [0.08220046],\n",
       "       [0.08705564],\n",
       "       [0.07683864],\n",
       "       [0.07734527],\n",
       "       [0.07886515],\n",
       "       [0.08486026],\n",
       "       [0.0916153 ],\n",
       "       [0.09186861],\n",
       "       [0.08236933],\n",
       "       [0.07236342],\n",
       "       [0.06995694],\n",
       "       [0.07088576],\n",
       "       [0.06598835],\n",
       "       [0.064764  ],\n",
       "       [0.06223085],\n",
       "       [0.05914886],\n",
       "       [0.03157984],\n",
       "       [0.01895635],\n",
       "       [0.01435447],\n",
       "       [0.01393228],\n",
       "       [0.02043401],\n",
       "       [0.01625433],\n",
       "       [0.01224352],\n",
       "       [0.01004813],\n",
       "       [0.01034366],\n",
       "       [0.01300346],\n",
       "       [0.00916153],\n",
       "       [0.        ],\n",
       "       [0.00075994],\n",
       "       [0.01494554],\n",
       "       [0.013299  ],\n",
       "       [0.01781643],\n",
       "       [0.01629655],\n",
       "       [0.02060289],\n",
       "       [0.02571139],\n",
       "       [0.03191759],\n",
       "       [0.03917926],\n",
       "       [0.04251457],\n",
       "       [0.04226125],\n",
       "       [0.04019252],\n",
       "       [0.03428185],\n",
       "       [0.03115765],\n",
       "       [0.03200203],\n",
       "       [0.03499958],\n",
       "       [0.03668834],\n",
       "       [0.03630837],\n",
       "       [0.03930592],\n",
       "       [0.03584396],\n",
       "       [0.02955332],\n",
       "       [0.03005995],\n",
       "       [0.02870894],\n",
       "       [0.03043992],\n",
       "       [0.0210673 ],\n",
       "       [0.02009626],\n",
       "       [0.023516  ],\n",
       "       [0.02199612],\n",
       "       [0.02431816],\n",
       "       [0.01291902],\n",
       "       [0.00717724],\n",
       "       [0.01372119],\n",
       "       [0.01714093],\n",
       "       [0.02220721],\n",
       "       [0.02343156],\n",
       "       [0.01963185],\n",
       "       [0.02191168],\n",
       "       [0.02364266],\n",
       "       [0.02676687],\n",
       "       [0.02803344],\n",
       "       [0.02989107],\n",
       "       [0.02756903],\n",
       "       [0.03567508],\n",
       "       [0.03563286],\n",
       "       [0.04006586],\n",
       "       [0.04023474],\n",
       "       [0.04061471],\n",
       "       [0.0383771 ],\n",
       "       [0.03512623],\n",
       "       [0.02955332],\n",
       "       [0.02672465],\n",
       "       [0.0532382 ],\n",
       "       [0.05910665],\n",
       "       [0.0585578 ],\n",
       "       [0.0663261 ],\n",
       "       [0.05969771],\n",
       "       [0.0652284 ],\n",
       "       [0.06556616],\n",
       "       [0.07236342],\n",
       "       [0.07612092],\n",
       "       [0.07797855],\n",
       "       [0.07455881],\n",
       "       [0.07426328],\n",
       "       [0.07531875],\n",
       "       [0.08080723],\n",
       "       [0.08038504],\n",
       "       [0.07970953],\n",
       "       [0.07911847],\n",
       "       [0.0803006 ],\n",
       "       [0.07671198],\n",
       "       [0.07814743],\n",
       "       [0.07468547],\n",
       "       [0.07274339],\n",
       "       [0.07008359],\n",
       "       [0.06957697],\n",
       "       [0.066115  ],\n",
       "       [0.06653719],\n",
       "       [0.06919699],\n",
       "       [0.0734189 ],\n",
       "       [0.07329224],\n",
       "       [0.0760787 ],\n",
       "       [0.06408849],\n",
       "       [0.05399814],\n",
       "       [0.06375074],\n",
       "       [0.07434772],\n",
       "       [0.09047539],\n",
       "       [0.10651862],\n",
       "       [0.10377438],\n",
       "       [0.09811703],\n",
       "       [0.09807481],\n",
       "       [0.09799037],\n",
       "       [0.10250781],\n",
       "       [0.09444398],\n",
       "       [0.0951617 ],\n",
       "       [0.0960483 ],\n",
       "       [0.09967914],\n",
       "       [0.09220637],\n",
       "       [0.09587942],\n",
       "       [0.09364181],\n",
       "       [0.09566833],\n",
       "       [0.09587942],\n",
       "       [0.09942582],\n",
       "       [0.10014354],\n",
       "       [0.10854513],\n",
       "       [0.10960061],\n",
       "       [0.11399139],\n",
       "       [0.1124715 ],\n",
       "       [0.11521574],\n",
       "       [0.11487799],\n",
       "       [0.11454023],\n",
       "       [0.11306257],\n",
       "       [0.11280925],\n",
       "       [0.11086718],\n",
       "       [0.11530018],\n",
       "       [0.11783332],\n",
       "       [0.10660306],\n",
       "       [0.10191674],\n",
       "       [0.0987081 ],\n",
       "       [0.09794816],\n",
       "       [0.08929325],\n",
       "       [0.08971544],\n",
       "       [0.08228489],\n",
       "       [0.07810521],\n",
       "       [0.0847336 ],\n",
       "       [0.08747784],\n",
       "       [0.08671789],\n",
       "       [0.07367221],\n",
       "       [0.07637423],\n",
       "       [0.06489065],\n",
       "       [0.07080132],\n",
       "       [0.0829604 ],\n",
       "       [0.08279152],\n",
       "       [0.08325593],\n",
       "       [0.09030651],\n",
       "       [0.09060204],\n",
       "       [0.08819556],\n",
       "       [0.09055982],\n",
       "       [0.08963101],\n",
       "       [0.0891666 ],\n",
       "       [0.08519801],\n",
       "       [0.08084945],\n",
       "       [0.08258043],\n",
       "       [0.07924512],\n",
       "       [0.08279152],\n",
       "       [0.08735118],\n",
       "       [0.09195305],\n",
       "       [0.09967914],\n",
       "       [0.0969349 ],\n",
       "       [0.1049143 ],\n",
       "       [0.1049143 ],\n",
       "       [0.10757409],\n",
       "       [0.10820738],\n",
       "       [0.11103606],\n",
       "       [0.11234485],\n",
       "       [0.11280925],\n",
       "       [0.10955839],\n",
       "       [0.11052943],\n",
       "       [0.11365364],\n",
       "       [0.11154268],\n",
       "       [0.11141603],\n",
       "       [0.10757409],\n",
       "       [0.10896732],\n",
       "       [0.10841848],\n",
       "       [0.1109094 ],\n",
       "       [0.11639787],\n",
       "       [0.12095753],\n",
       "       [0.12146416],\n",
       "       [0.12416617],\n",
       "       [0.12205522],\n",
       "       [0.12116862],\n",
       "       [0.12522165],\n",
       "       [0.12517943],\n",
       "       [0.12429283],\n",
       "       [0.12522165],\n",
       "       [0.1255594 ],\n",
       "       [0.12509499],\n",
       "       [0.13315883],\n",
       "       [0.13341214],\n",
       "       [0.13345436],\n",
       "       [0.13210335],\n",
       "       [0.13092122],\n",
       "       [0.1621633 ],\n",
       "       [0.16123448],\n",
       "       [0.16355653],\n",
       "       [0.16866503],\n",
       "       [0.17390019],\n",
       "       [0.17605336],\n",
       "       [0.17765769],\n",
       "       [0.17639112],\n",
       "       [0.18133074],\n",
       "       [0.18863464],\n",
       "       [0.19070337],\n",
       "       [0.19000676],\n",
       "       [0.19158997],\n",
       "       [0.19572743],\n",
       "       [0.19745841],\n",
       "       [0.19500971],\n",
       "       [0.19555856],\n",
       "       [0.19669847],\n",
       "       [0.19695179],\n",
       "       [0.20877311],\n",
       "       [0.20526894],\n",
       "       [0.2087309 ],\n",
       "       [0.20687326],\n",
       "       [0.2076332 ],\n",
       "       [0.20543781],\n",
       "       [0.2040868 ],\n",
       "       [0.20602888],\n",
       "       [0.20628219],\n",
       "       [0.20539559],\n",
       "       [0.21160179],\n",
       "       [0.21257283],\n",
       "       [0.2096175 ],\n",
       "       [0.21582369],\n",
       "       [0.20898421],\n",
       "       [0.21565482],\n",
       "       [0.21354387],\n",
       "       [0.21236173],\n",
       "       [0.21337499],\n",
       "       [0.22570295],\n",
       "       [0.22705396],\n",
       "       [0.22625179],\n",
       "       [0.22511188],\n",
       "       [0.22528076],\n",
       "       [0.22979819],\n",
       "       [0.22663177],\n",
       "       [0.22511188],\n",
       "       [0.22376087],\n",
       "       [0.22304315],\n",
       "       [0.21654142],\n",
       "       [0.21725914],\n",
       "       [0.21409271],\n",
       "       [0.2173858 ],\n",
       "       [0.214726  ],\n",
       "       [0.21253061],\n",
       "       [0.21996116],\n",
       "       [0.21924343],\n",
       "       [0.22502744],\n",
       "       [0.22878494],\n",
       "       [0.22519632],\n",
       "       [0.22566073],\n",
       "       [0.22506966],\n",
       "       [0.23743984],\n",
       "       [0.24136621],\n",
       "       [0.23946635],\n",
       "       [0.23722874],\n",
       "       [0.24748797],\n",
       "       [0.26458668],\n",
       "       [0.26872414],\n",
       "       [0.26564215],\n",
       "       [0.26855526],\n",
       "       [0.27763236],\n",
       "       [0.2759436 ],\n",
       "       [0.27497256],\n",
       "       [0.25293422],\n",
       "       [0.26260238],\n",
       "       [0.26479777],\n",
       "       [0.26872414],\n",
       "       [0.26792198],\n",
       "       [0.2659799 ],\n",
       "       [0.26821751],\n",
       "       [0.26711982],\n",
       "       [0.26737313],\n",
       "       [0.2635312 ],\n",
       "       [0.2653044 ],\n",
       "       [0.27488812],\n",
       "       [0.26847083],\n",
       "       [0.27066622],\n",
       "       [0.27455037],\n",
       "       [0.27294604],\n",
       "       [0.24757241],\n",
       "       [0.23254243],\n",
       "       [0.23748206],\n",
       "       [0.23144474],\n",
       "       [0.22777168],\n",
       "       [0.21924343],\n",
       "       [0.23642658],\n",
       "       [0.23081145],\n",
       "       [0.23444229],\n",
       "       [0.23342903],\n",
       "       [0.23617327],\n",
       "       [0.23423119],\n",
       "       [0.22540741],\n",
       "       [0.23427341],\n",
       "       [0.22519632],\n",
       "       [0.22663177],\n",
       "       [0.22443638],\n",
       "       [0.2269273 ],\n",
       "       [0.22118551],\n",
       "       [0.22730727],\n",
       "       [0.23102254],\n",
       "       [0.23300684],\n",
       "       [0.23389344],\n",
       "       [0.2424639 ],\n",
       "       [0.24782572],\n",
       "       [0.25002111],\n",
       "       [0.2522165 ],\n",
       "       [0.25618509],\n",
       "       [0.25331419],\n",
       "       [0.25301866],\n",
       "       [0.26070252],\n",
       "       [0.26344676],\n",
       "       [0.26648653],\n",
       "       [0.25424301],\n",
       "       [0.2497678 ],\n",
       "       [0.24651693],\n",
       "       [0.25208984],\n",
       "       [0.28202314],\n",
       "       [0.27539475],\n",
       "       [0.27885671],\n",
       "       [0.28907371],\n",
       "       [0.29443553],\n",
       "       [0.298573  ],\n",
       "       [0.27433927],\n",
       "       [0.28345858],\n",
       "       [0.29346449],\n",
       "       [0.30085282],\n",
       "       [0.29810859],\n",
       "       [0.28506291],\n",
       "       [0.28354302],\n",
       "       [0.28231867],\n",
       "       [0.29316896],\n",
       "       [0.29401334],\n",
       "       [0.29101579],\n",
       "       [0.29350671],\n",
       "       [0.30030398],\n",
       "       [0.30638352],\n",
       "       [0.30824116],\n",
       "       [0.31098539],\n",
       "       [0.31119649],\n",
       "       [0.30287934],\n",
       "       [0.30216161],\n",
       "       [0.29941738],\n",
       "       [0.28831377],\n",
       "       [0.30043063],\n",
       "       [0.29772862],\n",
       "       [0.29262011],\n",
       "       [0.28683611],\n",
       "       [0.29359115],\n",
       "       [0.28848265],\n",
       "       [0.28873596],\n",
       "       [0.2775057 ],\n",
       "       [0.266191  ],\n",
       "       [0.25985814],\n",
       "       [0.25420079],\n",
       "       [0.26513552],\n",
       "       [0.2697374 ],\n",
       "       [0.26572659],\n",
       "       [0.26927299],\n",
       "       [0.2679642 ],\n",
       "       [0.27079287],\n",
       "       [0.26657097],\n",
       "       [0.27463481],\n",
       "       [0.27425483],\n",
       "       [0.27653466],\n",
       "       [0.27678798],\n",
       "       [0.27953221],\n",
       "       [0.27721017],\n",
       "       [0.28138985],\n",
       "       [0.29359115],\n",
       "       [0.29608207],\n",
       "       [0.29308452],\n",
       "       [0.27712573],\n",
       "       [0.27826564],\n",
       "       [0.27792789],\n",
       "       [0.28185426],\n",
       "       [0.27894115],\n",
       "       [0.28316305],\n",
       "       [0.30697458],\n",
       "       [0.32246897],\n",
       "       [0.33226378],\n",
       "       [0.32318669],\n",
       "       [0.32833741],\n",
       "       [0.34687157],\n",
       "       [0.3542599 ],\n",
       "       [0.35662417],\n",
       "       [0.36266149],\n",
       "       [0.3611416 ],\n",
       "       [0.3560331 ],\n",
       "       [0.35307777],\n",
       "       [0.34197416],\n",
       "       [0.33243266],\n",
       "       [0.34096091],\n",
       "       [0.3369501 ],\n",
       "       [0.33623237],\n",
       "       [0.34957359],\n",
       "       [0.35725745],\n",
       "       [0.35729967],\n",
       "       [0.3535844 ],\n",
       "       [0.34927805],\n",
       "       [0.33412142],\n",
       "       [0.34412733],\n",
       "       [0.34074981],\n",
       "       [0.33547243],\n",
       "       [0.33479693],\n",
       "       [0.33213713],\n",
       "       [0.33344592],\n",
       "       [0.33365701],\n",
       "       [0.34758929],\n",
       "       [0.34349405],\n",
       "       [0.34590053],\n",
       "       [0.34568944],\n",
       "       [0.35307777],\n",
       "       [0.36342143],\n",
       "       [0.35548425],\n",
       "       [0.35468209],\n",
       "       [0.35746855],\n",
       "       [0.35746855],\n",
       "       [0.3387233 ],\n",
       "       [0.33884995],\n",
       "       [0.34087647],\n",
       "       [0.33306595],\n",
       "       [0.34585831],\n",
       "       [0.34573166],\n",
       "       [0.34910918],\n",
       "       [0.35742633],\n",
       "       [0.35468209],\n",
       "       [0.35459765],\n",
       "       [0.35442878],\n",
       "       [0.35860846],\n",
       "       [0.36625011],\n",
       "       [0.36245039],\n",
       "       [0.37473613],\n",
       "       [0.37541164],\n",
       "       [0.37203411],\n",
       "       [0.36587013],\n",
       "       [0.36603901],\n",
       "       [0.35413324],\n",
       "       [0.34100312],\n",
       "       [0.34269189],\n",
       "       [0.32770413],\n",
       "       [0.32352444],\n",
       "       [0.32546652],\n",
       "       [0.32694419],\n",
       "       [0.29620873],\n",
       "       [0.2792789 ],\n",
       "       [0.30689015],\n",
       "       [0.2921557 ],\n",
       "       [0.27362155],\n",
       "       [0.27894115],\n",
       "       [0.30553914],\n",
       "       [0.31242084],\n",
       "       [0.32521321],\n",
       "       [0.3489403 ],\n",
       "       [0.34657604],\n",
       "       [0.34412733],\n",
       "       [0.34083425],\n",
       "       [0.34687157],\n",
       "       [0.35953728],\n",
       "       [0.37418728],\n",
       "       [0.37173858],\n",
       "       [0.37059867],\n",
       "       [0.35742633],\n",
       "       [0.36253483],\n",
       "       [0.36511019],\n",
       "       [0.36447691],\n",
       "       [0.35755298],\n",
       "       [0.36561682],\n",
       "       [0.37845141],\n",
       "       [0.38579752],\n",
       "       [0.37840919],\n",
       "       [0.37194967],\n",
       "       [0.37283627],\n",
       "       [0.37017648],\n",
       "       [0.3586929 ],\n",
       "       [0.35843958],\n",
       "       [0.34167863],\n",
       "       [0.33146162],\n",
       "       [0.31495398],\n",
       "       [0.34801148],\n",
       "       [0.32930845],\n",
       "       [0.32145571],\n",
       "       [0.32694419],\n",
       "       [0.32230009],\n",
       "       [0.32951955],\n",
       "       [0.34311408],\n",
       "       [0.34813814],\n",
       "       [0.32947733],\n",
       "       [0.33652791],\n",
       "       [0.350038  ],\n",
       "       [0.34661826],\n",
       "       [0.35379549],\n",
       "       [0.35628641],\n",
       "       [0.36088829],\n",
       "       [0.37110529],\n",
       "       [0.36941653],\n",
       "       [0.34813814],\n",
       "       [0.31824707],\n",
       "       [0.31622055],\n",
       "       [0.30651017],\n",
       "       [0.30950773],\n",
       "       [0.31191421],\n",
       "       [0.30389259],\n",
       "       [0.31630499],\n",
       "       [0.3325171 ],\n",
       "       [0.36405472],\n",
       "       [0.36540572],\n",
       "       [0.39470573],\n",
       "       [0.40032086],\n",
       "       [0.40407836],\n",
       "       [0.40960905],\n",
       "       [0.42092375],\n",
       "       [0.41480199],\n",
       "       [0.41294436],\n",
       "       [0.4057249 ],\n",
       "       [0.41307101],\n",
       "       [0.40804695],\n",
       "       [0.40517605],\n",
       "       [0.41074897],\n",
       "       [0.40876467],\n",
       "       [0.41383095],\n",
       "       [0.41294436],\n",
       "       [0.41475977],\n",
       "       [0.41188888],\n",
       "       [0.41020012],\n",
       "       [0.40754032],\n",
       "       [0.42176813],\n",
       "       [0.42848096],\n",
       "       [0.43472938],\n",
       "       [0.43755805],\n",
       "       [0.43536266],\n",
       "       [0.42793211],\n",
       "       [0.42594782],\n",
       "       [0.43038082],\n",
       "       [0.42371021],\n",
       "       [0.4241324 ],\n",
       "       [0.41585747],\n",
       "       [0.41543528],\n",
       "       [0.40255847],\n",
       "       [0.40597821],\n",
       "       [0.40158744],\n",
       "       [0.39930761],\n",
       "       [0.38769737],\n",
       "       [0.39723888],\n",
       "       [0.39609896],\n",
       "       [0.40175631],\n",
       "       [0.40010977],\n",
       "       [0.40884911],\n",
       "       [0.3950857 ],\n",
       "       [0.40133412],\n",
       "       [0.41218441],\n",
       "       [0.42320358],\n",
       "       [0.42223254],\n",
       "       [0.41180444],\n",
       "       [0.42510344],\n",
       "       [0.42637001],\n",
       "       [0.42459681],\n",
       "       [0.42687664],\n",
       "       [0.42244364],\n",
       "       [0.42869205],\n",
       "       [0.42683442],\n",
       "       [0.42755214],\n",
       "       [0.43342059],\n",
       "       [0.44110445],\n",
       "       [0.43852909],\n",
       "       [0.42489234],\n",
       "       [0.42037491],\n",
       "       [0.42197923],\n",
       "       [0.46930676],\n",
       "       [0.49417377],\n",
       "       [0.49670692],\n",
       "       [0.50126657],\n",
       "       [0.49299164],\n",
       "       [0.49358271],\n",
       "       [0.50046441],\n",
       "       [0.49476484],\n",
       "       [0.50042219],\n",
       "       [0.50413747],\n",
       "       [0.5062062 ],\n",
       "       [0.51920966],\n",
       "       [0.53719497],\n",
       "       [0.52824453],\n",
       "       [0.52647133]])"
      ]
     },
     "execution_count": 16,
     "metadata": {},
     "output_type": "execute_result"
    }
   ],
   "source": [
    "train_data"
   ]
  },
  {
   "cell_type": "code",
   "execution_count": 17,
   "metadata": {
    "id": "lELXaQV1y330"
   },
   "outputs": [],
   "source": [
    "import numpy\n",
    "# convert an array of values into a dataset matrix\n",
    "def create_dataset(dataset, time_step=1):\n",
    "\tdataX, dataY = [], []\n",
    "\tfor i in range(len(dataset)-time_step-1):\n",
    "\t\ta = dataset[i:(i+time_step), 0]   ###i=0, 0,1,2,3-----99   100\n",
    "\t\tdataX.append(a)\n",
    "\t\tdataY.append(dataset[i + time_step, 0])\n",
    "\treturn numpy.array(dataX), numpy.array(dataY)"
   ]
  },
  {
   "cell_type": "code",
   "execution_count": 18,
   "metadata": {
    "id": "TDnRdSfRzNtN"
   },
   "outputs": [],
   "source": [
    "# reshape into X=t,t+1,t+2,t+3 and Y=t+4\n",
    "time_step = 100\n",
    "X_train, y_train = create_dataset(train_data, time_step)\n",
    "X_test, ytest = create_dataset(test_data, time_step)"
   ]
  },
  {
   "cell_type": "code",
   "execution_count": 19,
   "metadata": {
    "colab": {
     "base_uri": "https://localhost:8080/"
    },
    "id": "Q_pH9c4HzQib",
    "outputId": "687d17c3-84af-4f02-9b94-f188ece0ecbf"
   },
   "outputs": [
    {
     "name": "stdout",
     "output_type": "stream",
     "text": [
      "(716, 100)\n",
      "(716,)\n"
     ]
    },
    {
     "data": {
      "text/plain": [
       "(None, None)"
      ]
     },
     "execution_count": 19,
     "metadata": {},
     "output_type": "execute_result"
    }
   ],
   "source": [
    "print(X_train.shape), print(y_train.shape)"
   ]
  },
  {
   "cell_type": "code",
   "execution_count": 20,
   "metadata": {
    "colab": {
     "base_uri": "https://localhost:8080/"
    },
    "id": "ISqpL5dUz2Ov",
    "outputId": "0fcc1886-c5e8-4b2f-ce9e-46fc40657380"
   },
   "outputs": [
    {
     "name": "stdout",
     "output_type": "stream",
     "text": [
      "(340, 100)\n",
      "(340,)\n"
     ]
    },
    {
     "data": {
      "text/plain": [
       "(None, None)"
      ]
     },
     "execution_count": 20,
     "metadata": {},
     "output_type": "execute_result"
    }
   ],
   "source": [
    "print(X_test.shape), print(ytest.shape)"
   ]
  },
  {
   "cell_type": "code",
   "execution_count": 21,
   "metadata": {
    "id": "6JpowaJrz4oJ"
   },
   "outputs": [],
   "source": [
    "# reshape input to be [samples, time steps, features] which is required for LSTM\n",
    "X_train =X_train.reshape(X_train.shape[0],X_train.shape[1] , 1)\n",
    "X_test = X_test.reshape(X_test.shape[0],X_test.shape[1] , 1)"
   ]
  },
  {
   "cell_type": "code",
   "execution_count": 22,
   "metadata": {
    "id": "yycNyiVxz9I7"
   },
   "outputs": [],
   "source": [
    "### Create the Stacked LSTM model\n",
    "from tensorflow.keras.models import Sequential\n",
    "from tensorflow.keras.layers import Dense\n",
    "from tensorflow.keras.layers import LSTM"
   ]
  },
  {
   "cell_type": "code",
   "execution_count": 23,
   "metadata": {
    "id": "SPxEHUYr0ByD"
   },
   "outputs": [],
   "source": [
    "model=Sequential()\n",
    "model.add(LSTM(50,return_sequences=True,input_shape=(100,1)))\n",
    "model.add(LSTM(50,return_sequences=True))\n",
    "model.add(LSTM(50))\n",
    "model.add(Dense(1))\n",
    "model.compile(loss='mean_squared_error',optimizer='adam')\n"
   ]
  },
  {
   "cell_type": "code",
   "execution_count": 24,
   "metadata": {
    "colab": {
     "base_uri": "https://localhost:8080/"
    },
    "id": "FGwS4xrh0G4D",
    "outputId": "c8428285-924b-49e2-dc91-963533f7fba1"
   },
   "outputs": [
    {
     "name": "stdout",
     "output_type": "stream",
     "text": [
      "Model: \"sequential\"\n",
      "_________________________________________________________________\n",
      " Layer (type)                Output Shape              Param #   \n",
      "=================================================================\n",
      " lstm (LSTM)                 (None, 100, 50)           10400     \n",
      "                                                                 \n",
      " lstm_1 (LSTM)               (None, 100, 50)           20200     \n",
      "                                                                 \n",
      " lstm_2 (LSTM)               (None, 50)                20200     \n",
      "                                                                 \n",
      " dense (Dense)               (None, 1)                 51        \n",
      "                                                                 \n",
      "=================================================================\n",
      "Total params: 50,851\n",
      "Trainable params: 50,851\n",
      "Non-trainable params: 0\n",
      "_________________________________________________________________\n"
     ]
    }
   ],
   "source": [
    "model.summary()"
   ]
  },
  {
   "cell_type": "code",
   "execution_count": 25,
   "metadata": {
    "colab": {
     "base_uri": "https://localhost:8080/"
    },
    "id": "MK-9sghc0LfE",
    "outputId": "9cf9ec84-4cf9-4951-e753-cc0238928874"
   },
   "outputs": [
    {
     "name": "stdout",
     "output_type": "stream",
     "text": [
      "Epoch 1/15\n",
      "12/12 [==============================] - 13s 339ms/step - loss: 0.0134 - val_loss: 0.0659\n",
      "Epoch 2/15\n",
      "12/12 [==============================] - 2s 209ms/step - loss: 0.0031 - val_loss: 0.0046\n",
      "Epoch 3/15\n",
      "12/12 [==============================] - 2s 191ms/step - loss: 9.9620e-04 - val_loss: 0.0058\n",
      "Epoch 4/15\n",
      "12/12 [==============================] - 2s 191ms/step - loss: 7.1938e-04 - val_loss: 0.0039\n",
      "Epoch 5/15\n",
      "12/12 [==============================] - 2s 200ms/step - loss: 6.2353e-04 - val_loss: 0.0040\n",
      "Epoch 6/15\n",
      "12/12 [==============================] - 2s 191ms/step - loss: 5.9009e-04 - val_loss: 0.0037\n",
      "Epoch 7/15\n",
      "12/12 [==============================] - 2s 204ms/step - loss: 5.8237e-04 - val_loss: 0.0037\n",
      "Epoch 8/15\n",
      "12/12 [==============================] - 2s 193ms/step - loss: 5.7677e-04 - val_loss: 0.0035\n",
      "Epoch 9/15\n",
      "12/12 [==============================] - 2s 207ms/step - loss: 5.8035e-04 - val_loss: 0.0033\n",
      "Epoch 10/15\n",
      "12/12 [==============================] - 3s 212ms/step - loss: 5.7182e-04 - val_loss: 0.0034\n",
      "Epoch 11/15\n",
      "12/12 [==============================] - 3s 219ms/step - loss: 5.5079e-04 - val_loss: 0.0035\n",
      "Epoch 12/15\n",
      "12/12 [==============================] - 2s 192ms/step - loss: 5.3804e-04 - val_loss: 0.0034\n",
      "Epoch 13/15\n",
      "12/12 [==============================] - 2s 190ms/step - loss: 5.2397e-04 - val_loss: 0.0035\n",
      "Epoch 14/15\n",
      "12/12 [==============================] - 2s 198ms/step - loss: 5.3175e-04 - val_loss: 0.0029\n",
      "Epoch 15/15\n",
      "12/12 [==============================] - 2s 190ms/step - loss: 5.2092e-04 - val_loss: 0.0028\n"
     ]
    },
    {
     "data": {
      "text/plain": [
       "<keras.callbacks.History at 0x13a6c5d6190>"
      ]
     },
     "execution_count": 25,
     "metadata": {},
     "output_type": "execute_result"
    }
   ],
   "source": [
    "model.fit(X_train,y_train,validation_data=(X_test,ytest),epochs=15,batch_size=60,verbose=1)"
   ]
  },
  {
   "cell_type": "code",
   "execution_count": 26,
   "metadata": {
    "id": "PxC9AbfP0TwC"
   },
   "outputs": [],
   "source": [
    "import tensorflow as tf"
   ]
  },
  {
   "cell_type": "code",
   "execution_count": 27,
   "metadata": {
    "colab": {
     "base_uri": "https://localhost:8080/",
     "height": 36
    },
    "id": "DE1A9Z1o2H3C",
    "outputId": "f8079d10-af27-4332-d830-4f54c8a5863d"
   },
   "outputs": [
    {
     "data": {
      "text/plain": [
       "'2.11.0'"
      ]
     },
     "execution_count": 27,
     "metadata": {},
     "output_type": "execute_result"
    }
   ],
   "source": [
    "tf.__version__"
   ]
  },
  {
   "cell_type": "code",
   "execution_count": 28,
   "metadata": {
    "colab": {
     "base_uri": "https://localhost:8080/"
    },
    "id": "v99__BjA2RFo",
    "outputId": "47c71e52-7372-446f-8cc3-c5a4aa414d86"
   },
   "outputs": [
    {
     "name": "stdout",
     "output_type": "stream",
     "text": [
      "23/23 [==============================] - 2s 43ms/step\n",
      "11/11 [==============================] - 0s 43ms/step\n"
     ]
    }
   ],
   "source": [
    "### Lets Do the prediction and check performance metrics\n",
    "train_predict=model.predict(X_train)\n",
    "test_predict=model.predict(X_test)"
   ]
  },
  {
   "cell_type": "code",
   "execution_count": 29,
   "metadata": {
    "id": "nPOqHyji2YaR"
   },
   "outputs": [],
   "source": [
    "##Transformback to original form\n",
    "train_predict=scaler.inverse_transform(train_predict)\n",
    "test_predict=scaler.inverse_transform(test_predict)"
   ]
  },
  {
   "cell_type": "code",
   "execution_count": 30,
   "metadata": {
    "colab": {
     "base_uri": "https://localhost:8080/"
    },
    "id": "QbCgXHhM2bH4",
    "outputId": "3cbe4a13-f9fa-498b-d277-c5196f515a1c"
   },
   "outputs": [
    {
     "data": {
      "text/plain": [
       "142.52559099608962"
      ]
     },
     "execution_count": 30,
     "metadata": {},
     "output_type": "execute_result"
    }
   ],
   "source": [
    "### Calculate RMSE performance metrics\n",
    "import math\n",
    "from sklearn.metrics import mean_squared_error\n",
    "math.sqrt(mean_squared_error(y_train,train_predict))"
   ]
  },
  {
   "cell_type": "code",
   "execution_count": 31,
   "metadata": {
    "colab": {
     "base_uri": "https://localhost:8080/"
    },
    "id": "OuSGLo_y2ugE",
    "outputId": "04ec911f-6ff0-4008-ec3f-9fb558d33999"
   },
   "outputs": [
    {
     "data": {
      "text/plain": [
       "237.20267649374108"
      ]
     },
     "execution_count": 31,
     "metadata": {},
     "output_type": "execute_result"
    }
   ],
   "source": [
    "### Test Data RMSE\n",
    "math.sqrt(mean_squared_error(ytest,test_predict))"
   ]
  },
  {
   "cell_type": "code",
   "execution_count": 32,
   "metadata": {
    "colab": {
     "base_uri": "https://localhost:8080/",
     "height": 430
    },
    "id": "wRGIXIL2218t",
    "outputId": "809414cd-dd89-4ef1-b0aa-823f2a778003"
   },
   "outputs": [
    {
     "data": {
      "image/png": "[encoded data removed]",
      "text/plain": [
       "<Figure size 432x288 with 1 Axes>"
      ]
     },
     "metadata": {
      "needs_background": "light"
     },
     "output_type": "display_data"
    }
   ],
   "source": [
    "### Plotting\n",
    "# shift train predictions for plotting\n",
    "look_back=100\n",
    "trainPredictPlot = numpy.empty_like(df1)\n",
    "trainPredictPlot[:, :] = np.nan\n",
    "trainPredictPlot[look_back:len(train_predict)+look_back, :] = train_predict\n",
    "# shift test predictions for plotting\n",
    "testPredictPlot = numpy.empty_like(df1)\n",
    "testPredictPlot[:, :] = numpy.nan\n",
    "testPredictPlot[len(train_predict)+(look_back*2)+1:len(df1)-1, :] = test_predict\n",
    "# plot baseline and predictions\n",
    "plt.plot(scaler.inverse_transform(df1))\n",
    "plt.plot(trainPredictPlot)\n",
    "plt.plot(testPredictPlot)\n",
    "plt.show()"
   ]
  },
  {
   "cell_type": "code",
   "execution_count": 33,
   "metadata": {
    "colab": {
     "base_uri": "https://localhost:8080/"
    },
    "id": "HAASr6lq2-5E",
    "outputId": "01ccda47-4c94-4026-ef7c-134b0af433cb"
   },
   "outputs": [
    {
     "data": {
      "text/plain": [
       "441"
      ]
     },
     "execution_count": 33,
     "metadata": {},
     "output_type": "execute_result"
    }
   ],
   "source": [
    "len(test_data)"
   ]
  },
  {
   "cell_type": "code",
   "execution_count": 34,
   "metadata": {
    "colab": {
     "base_uri": "https://localhost:8080/"
    },
    "id": "FT2xMgbI3Pqz",
    "outputId": "fa6a20d6-88ba-4f57-8deb-f6ae25313b69"
   },
   "outputs": [
    {
     "data": {
      "text/plain": [
       "(1, 100)"
      ]
     },
     "execution_count": 34,
     "metadata": {},
     "output_type": "execute_result"
    }
   ],
   "source": [
    "x_input=test_data[341:].reshape(1,-1)\n",
    "x_input.shape\n"
   ]
  },
  {
   "cell_type": "code",
   "execution_count": 35,
   "metadata": {
    "id": "ZlyO2JP63SSB"
   },
   "outputs": [],
   "source": [
    "temp_input=list(x_input)\n",
    "temp_input=temp_input[0].tolist()"
   ]
  },
  {
   "cell_type": "code",
   "execution_count": 36,
   "metadata": {
    "colab": {
     "base_uri": "https://localhost:8080/"
    },
    "id": "UO98LMaZ3a1e",
    "outputId": "78b8a923-816f-4825-c7b4-f0fc85740ee8"
   },
   "outputs": [
    {
     "data": {
      "text/plain": [
       "[0.8583551465000423,\n",
       " 0.8866418981676942,\n",
       " 0.8743139407244789,\n",
       " 0.8843198513890065,\n",
       " 0.8783669678290975,\n",
       " 0.8986321033521913,\n",
       " 0.925821160179009,\n",
       " 0.9287764924427933,\n",
       " 0.9567677108840666,\n",
       " 0.9386979650426415,\n",
       " 0.933040614709111,\n",
       " 0.9495060373216249,\n",
       " 0.9642404796082076,\n",
       " 0.9551211686228154,\n",
       " 0.9598919192772104,\n",
       " 0.9663514312251966,\n",
       " 0.9624672802499368,\n",
       " 0.9229502659799038,\n",
       " 0.9598497002448705,\n",
       " 0.9879253567508233,\n",
       " 0.985941062230854,\n",
       " 0.9253145317909315,\n",
       " 0.9217259140420504,\n",
       " 0.964747107996285,\n",
       " 0.9757240564046274,\n",
       " 0.9915984125643842,\n",
       " 0.9697289538123788,\n",
       " 0.9761462467280253,\n",
       " 0.9679557544541082,\n",
       " 1.0000000000000002,\n",
       " 0.9901629654648318,\n",
       " 0.9905007177235499,\n",
       " 0.9653803934813816,\n",
       " 0.9848855864223593,\n",
       " 0.9708688676855528,\n",
       " 0.9402600692392133,\n",
       " 0.8774803681499621,\n",
       " 0.8348391454867856,\n",
       " 0.8541332432660644,\n",
       " 0.7733682344000676,\n",
       " 0.7726927298826314,\n",
       " 0.8801401671873683,\n",
       " 0.8400743054969182,\n",
       " 0.8967322468969012,\n",
       " 0.8552731571392387,\n",
       " 0.8388499535590646,\n",
       " 0.7423372456303303,\n",
       " 0.8232711306256861,\n",
       " 0.7814320695769654,\n",
       " 0.6665963016127672,\n",
       " 0.7921557037912694,\n",
       " 0.6411804441442204,\n",
       " 0.6861437135860848,\n",
       " 0.6600101325677616,\n",
       " 0.6520307354555435,\n",
       " 0.5864223591995272,\n",
       " 0.5658616904500551,\n",
       " 0.660896732246897,\n",
       " 0.6551549438486872,\n",
       " 0.7097019336316812,\n",
       " 0.664527569028118,\n",
       " 0.6943764248923416,\n",
       " 0.692181035210673,\n",
       " 0.6356919699400492,\n",
       " 0.6526640209406402,\n",
       " 0.637802921557038,\n",
       " 0.7267162036646122,\n",
       " 0.7138816178333194,\n",
       " 0.7419150553069325,\n",
       " 0.7500211095161702,\n",
       " 0.7722283205268936,\n",
       " 0.8304905851557884,\n",
       " 0.8194291986827664,\n",
       " 0.8289706999915563,\n",
       " 0.8125474964113824,\n",
       " 0.7877649244279323,\n",
       " 0.7516254327450818,\n",
       " 0.7842607447437306,\n",
       " 0.7797433082833742,\n",
       " 0.8132652199611587,\n",
       " 0.8141096006079542,\n",
       " 0.7947310647639958,\n",
       " 0.8333614793548934,\n",
       " 0.8589884319851391,\n",
       " 0.8390188296884238,\n",
       " 0.8562864139153934,\n",
       " 0.8748627881448958,\n",
       " 0.887824031073208,\n",
       " 0.9009541501308793,\n",
       " 0.9279321117959978,\n",
       " 0.9485349995778098,\n",
       " 0.9333361479354896,\n",
       " 0.9174617917757326,\n",
       " 0.925441188887951,\n",
       " 0.9177151059697712,\n",
       " 0.9483239044161109,\n",
       " 0.9406400405302711,\n",
       " 0.9663514312251966,\n",
       " 0.9563033015283293,\n",
       " 0.964915984125644]"
      ]
     },
     "execution_count": 36,
     "metadata": {},
     "output_type": "execute_result"
    }
   ],
   "source": [
    "temp_input"
   ]
  },
  {
   "cell_type": "code",
   "execution_count": 37,
   "metadata": {
    "colab": {
     "base_uri": "https://localhost:8080/"
    },
    "id": "wHxammNE3fp1",
    "outputId": "2ecaaa59-b0fe-4640-9f0b-044895242fcd"
   },
   "outputs": [
    {
     "name": "stdout",
     "output_type": "stream",
     "text": [
      "[0.91911036]\n",
      "101\n",
      "1 day input [0.8866419  0.87431394 0.88431985 0.87836697 0.8986321  0.92582116\n",
      " 0.92877649 0.95676771 0.93869797 0.93304061 0.94950604 0.96424048\n",
      " 0.95512117 0.95989192 0.96635143 0.96246728 0.92295027 0.9598497\n",
      " 0.98792536 0.98594106 0.92531453 0.92172591 0.96474711 0.97572406\n",
      " 0.99159841 0.96972895 0.97614625 0.96795575 1.         0.99016297\n",
      " 0.99050072 0.96538039 0.98488559 0.97086887 0.94026007 0.87748037\n",
      " 0.83483915 0.85413324 0.77336823 0.77269273 0.88014017 0.84007431\n",
      " 0.89673225 0.85527316 0.83884995 0.74233725 0.82327113 0.78143207\n",
      " 0.6665963  0.7921557  0.64118044 0.68614371 0.66001013 0.65203074\n",
      " 0.58642236 0.56586169 0.66089673 0.65515494 0.70970193 0.66452757\n",
      " 0.69437642 0.69218104 0.63569197 0.65266402 0.63780292 0.7267162\n",
      " 0.71388162 0.74191506 0.75002111 0.77222832 0.83049059 0.8194292\n",
      " 0.8289707  0.8125475  0.78776492 0.75162543 0.78426074 0.77974331\n",
      " 0.81326522 0.8141096  0.79473106 0.83336148 0.85898843 0.83901883\n",
      " 0.85628641 0.87486279 0.88782403 0.90095415 0.92793211 0.948535\n",
      " 0.93333615 0.91746179 0.92544119 0.91771511 0.9483239  0.94064004\n",
      " 0.96635143 0.9563033  0.96491598 0.91911036]\n",
      "1 day output [[0.92458254]]\n",
      "2 day input [0.87431394 0.88431985 0.87836697 0.8986321  0.92582116 0.92877649\n",
      " 0.95676771 0.93869797 0.93304061 0.94950604 0.96424048 0.95512117\n",
      " 0.95989192 0.96635143 0.96246728 0.92295027 0.9598497  0.98792536\n",
      " 0.98594106 0.92531453 0.92172591 0.96474711 0.97572406 0.99159841\n",
      " 0.96972895 0.97614625 0.96795575 1.         0.99016297 0.99050072\n",
      " 0.96538039 0.98488559 0.97086887 0.94026007 0.87748037 0.83483915\n",
      " 0.85413324 0.77336823 0.77269273 0.88014017 0.84007431 0.89673225\n",
      " 0.85527316 0.83884995 0.74233725 0.82327113 0.78143207 0.6665963\n",
      " 0.7921557  0.64118044 0.68614371 0.66001013 0.65203074 0.58642236\n",
      " 0.56586169 0.66089673 0.65515494 0.70970193 0.66452757 0.69437642\n",
      " 0.69218104 0.63569197 0.65266402 0.63780292 0.7267162  0.71388162\n",
      " 0.74191506 0.75002111 0.77222832 0.83049059 0.8194292  0.8289707\n",
      " 0.8125475  0.78776492 0.75162543 0.78426074 0.77974331 0.81326522\n",
      " 0.8141096  0.79473106 0.83336148 0.85898843 0.83901883 0.85628641\n",
      " 0.87486279 0.88782403 0.90095415 0.92793211 0.948535   0.93333615\n",
      " 0.91746179 0.92544119 0.91771511 0.9483239  0.94064004 0.96635143\n",
      " 0.9563033  0.96491598 0.91911036 0.92458254]\n",
      "2 day output [[0.92898875]]\n",
      "3 day input [0.88431985 0.87836697 0.8986321  0.92582116 0.92877649 0.95676771\n",
      " 0.93869797 0.93304061 0.94950604 0.96424048 0.95512117 0.95989192\n",
      " 0.96635143 0.96246728 0.92295027 0.9598497  0.98792536 0.98594106\n",
      " 0.92531453 0.92172591 0.96474711 0.97572406 0.99159841 0.96972895\n",
      " 0.97614625 0.96795575 1.         0.99016297 0.99050072 0.96538039\n",
      " 0.98488559 0.97086887 0.94026007 0.87748037 0.83483915 0.85413324\n",
      " 0.77336823 0.77269273 0.88014017 0.84007431 0.89673225 0.85527316\n",
      " 0.83884995 0.74233725 0.82327113 0.78143207 0.6665963  0.7921557\n",
      " 0.64118044 0.68614371 0.66001013 0.65203074 0.58642236 0.56586169\n",
      " 0.66089673 0.65515494 0.70970193 0.66452757 0.69437642 0.69218104\n",
      " 0.63569197 0.65266402 0.63780292 0.7267162  0.71388162 0.74191506\n",
      " 0.75002111 0.77222832 0.83049059 0.8194292  0.8289707  0.8125475\n",
      " 0.78776492 0.75162543 0.78426074 0.77974331 0.81326522 0.8141096\n",
      " 0.79473106 0.83336148 0.85898843 0.83901883 0.85628641 0.87486279\n",
      " 0.88782403 0.90095415 0.92793211 0.948535   0.93333615 0.91746179\n",
      " 0.92544119 0.91771511 0.9483239  0.94064004 0.96635143 0.9563033\n",
      " 0.96491598 0.91911036 0.92458254 0.92898875]\n",
      "3 day output [[0.93237233]]\n",
      "4 day input [0.87836697 0.8986321  0.92582116 0.92877649 0.95676771 0.93869797\n",
      " 0.93304061 0.94950604 0.96424048 0.95512117 0.95989192 0.96635143\n",
      " 0.96246728 0.92295027 0.9598497  0.98792536 0.98594106 0.92531453\n",
      " 0.92172591 0.96474711 0.97572406 0.99159841 0.96972895 0.97614625\n",
      " 0.96795575 1.         0.99016297 0.99050072 0.96538039 0.98488559\n",
      " 0.97086887 0.94026007 0.87748037 0.83483915 0.85413324 0.77336823\n",
      " 0.77269273 0.88014017 0.84007431 0.89673225 0.85527316 0.83884995\n",
      " 0.74233725 0.82327113 0.78143207 0.6665963  0.7921557  0.64118044\n",
      " 0.68614371 0.66001013 0.65203074 0.58642236 0.56586169 0.66089673\n",
      " 0.65515494 0.70970193 0.66452757 0.69437642 0.69218104 0.63569197\n",
      " 0.65266402 0.63780292 0.7267162  0.71388162 0.74191506 0.75002111\n",
      " 0.77222832 0.83049059 0.8194292  0.8289707  0.8125475  0.78776492\n",
      " 0.75162543 0.78426074 0.77974331 0.81326522 0.8141096  0.79473106\n",
      " 0.83336148 0.85898843 0.83901883 0.85628641 0.87486279 0.88782403\n",
      " 0.90095415 0.92793211 0.948535   0.93333615 0.91746179 0.92544119\n",
      " 0.91771511 0.9483239  0.94064004 0.96635143 0.9563033  0.96491598\n",
      " 0.91911036 0.92458254 0.92898875 0.93237233]\n",
      "4 day output [[0.93487495]]\n",
      "5 day input [0.8986321  0.92582116 0.92877649 0.95676771 0.93869797 0.93304061\n",
      " 0.94950604 0.96424048 0.95512117 0.95989192 0.96635143 0.96246728\n",
      " 0.92295027 0.9598497  0.98792536 0.98594106 0.92531453 0.92172591\n",
      " 0.96474711 0.97572406 0.99159841 0.96972895 0.97614625 0.96795575\n",
      " 1.         0.99016297 0.99050072 0.96538039 0.98488559 0.97086887\n",
      " 0.94026007 0.87748037 0.83483915 0.85413324 0.77336823 0.77269273\n",
      " 0.88014017 0.84007431 0.89673225 0.85527316 0.83884995 0.74233725\n",
      " 0.82327113 0.78143207 0.6665963  0.7921557  0.64118044 0.68614371\n",
      " 0.66001013 0.65203074 0.58642236 0.56586169 0.66089673 0.65515494\n",
      " 0.70970193 0.66452757 0.69437642 0.69218104 0.63569197 0.65266402\n",
      " 0.63780292 0.7267162  0.71388162 0.74191506 0.75002111 0.77222832\n",
      " 0.83049059 0.8194292  0.8289707  0.8125475  0.78776492 0.75162543\n",
      " 0.78426074 0.77974331 0.81326522 0.8141096  0.79473106 0.83336148\n",
      " 0.85898843 0.83901883 0.85628641 0.87486279 0.88782403 0.90095415\n",
      " 0.92793211 0.948535   0.93333615 0.91746179 0.92544119 0.91771511\n",
      " 0.9483239  0.94064004 0.96635143 0.9563033  0.96491598 0.91911036\n",
      " 0.92458254 0.92898875 0.93237233 0.93487495]\n",
      "5 day output [[0.9366753]]\n",
      "6 day input [0.92582116 0.92877649 0.95676771 0.93869797 0.93304061 0.94950604\n",
      " 0.96424048 0.95512117 0.95989192 0.96635143 0.96246728 0.92295027\n",
      " 0.9598497  0.98792536 0.98594106 0.92531453 0.92172591 0.96474711\n",
      " 0.97572406 0.99159841 0.96972895 0.97614625 0.96795575 1.\n",
      " 0.99016297 0.99050072 0.96538039 0.98488559 0.97086887 0.94026007\n",
      " 0.87748037 0.83483915 0.85413324 0.77336823 0.77269273 0.88014017\n",
      " 0.84007431 0.89673225 0.85527316 0.83884995 0.74233725 0.82327113\n",
      " 0.78143207 0.6665963  0.7921557  0.64118044 0.68614371 0.66001013\n",
      " 0.65203074 0.58642236 0.56586169 0.66089673 0.65515494 0.70970193\n",
      " 0.66452757 0.69437642 0.69218104 0.63569197 0.65266402 0.63780292\n",
      " 0.7267162  0.71388162 0.74191506 0.75002111 0.77222832 0.83049059\n",
      " 0.8194292  0.8289707  0.8125475  0.78776492 0.75162543 0.78426074\n",
      " 0.77974331 0.81326522 0.8141096  0.79473106 0.83336148 0.85898843\n",
      " 0.83901883 0.85628641 0.87486279 0.88782403 0.90095415 0.92793211\n",
      " 0.948535   0.93333615 0.91746179 0.92544119 0.91771511 0.9483239\n",
      " 0.94064004 0.96635143 0.9563033  0.96491598 0.91911036 0.92458254\n",
      " 0.92898875 0.93237233 0.93487495 0.93667531]\n",
      "6 day output [[0.9379488]]\n",
      "7 day input [0.92877649 0.95676771 0.93869797 0.93304061 0.94950604 0.96424048\n",
      " 0.95512117 0.95989192 0.96635143 0.96246728 0.92295027 0.9598497\n",
      " 0.98792536 0.98594106 0.92531453 0.92172591 0.96474711 0.97572406\n",
      " 0.99159841 0.96972895 0.97614625 0.96795575 1.         0.99016297\n",
      " 0.99050072 0.96538039 0.98488559 0.97086887 0.94026007 0.87748037\n",
      " 0.83483915 0.85413324 0.77336823 0.77269273 0.88014017 0.84007431\n",
      " 0.89673225 0.85527316 0.83884995 0.74233725 0.82327113 0.78143207\n",
      " 0.6665963  0.7921557  0.64118044 0.68614371 0.66001013 0.65203074\n",
      " 0.58642236 0.56586169 0.66089673 0.65515494 0.70970193 0.66452757\n",
      " 0.69437642 0.69218104 0.63569197 0.65266402 0.63780292 0.7267162\n",
      " 0.71388162 0.74191506 0.75002111 0.77222832 0.83049059 0.8194292\n",
      " 0.8289707  0.8125475  0.78776492 0.75162543 0.78426074 0.77974331\n",
      " 0.81326522 0.8141096  0.79473106 0.83336148 0.85898843 0.83901883\n",
      " 0.85628641 0.87486279 0.88782403 0.90095415 0.92793211 0.948535\n",
      " 0.93333615 0.91746179 0.92544119 0.91771511 0.9483239  0.94064004\n",
      " 0.96635143 0.9563033  0.96491598 0.91911036 0.92458254 0.92898875\n",
      " 0.93237233 0.93487495 0.93667531 0.93794882]\n",
      "7 day output [[0.9388483]]\n",
      "8 day input [0.95676771 0.93869797 0.93304061 0.94950604 0.96424048 0.95512117\n",
      " 0.95989192 0.96635143 0.96246728 0.92295027 0.9598497  0.98792536\n",
      " 0.98594106 0.92531453 0.92172591 0.96474711 0.97572406 0.99159841\n",
      " 0.96972895 0.97614625 0.96795575 1.         0.99016297 0.99050072\n",
      " 0.96538039 0.98488559 0.97086887 0.94026007 0.87748037 0.83483915\n",
      " 0.85413324 0.77336823 0.77269273 0.88014017 0.84007431 0.89673225\n",
      " 0.85527316 0.83884995 0.74233725 0.82327113 0.78143207 0.6665963\n",
      " 0.7921557  0.64118044 0.68614371 0.66001013 0.65203074 0.58642236\n",
      " 0.56586169 0.66089673 0.65515494 0.70970193 0.66452757 0.69437642\n",
      " 0.69218104 0.63569197 0.65266402 0.63780292 0.7267162  0.71388162\n",
      " 0.74191506 0.75002111 0.77222832 0.83049059 0.8194292  0.8289707\n",
      " 0.8125475  0.78776492 0.75162543 0.78426074 0.77974331 0.81326522\n",
      " 0.8141096  0.79473106 0.83336148 0.85898843 0.83901883 0.85628641\n",
      " 0.87486279 0.88782403 0.90095415 0.92793211 0.948535   0.93333615\n",
      " 0.91746179 0.92544119 0.91771511 0.9483239  0.94064004 0.96635143\n",
      " 0.9563033  0.96491598 0.91911036 0.92458254 0.92898875 0.93237233\n",
      " 0.93487495 0.93667531 0.93794882 0.93884832]\n",
      "8 day output [[0.93949753]]\n",
      "9 day input [0.93869797 0.93304061 0.94950604 0.96424048 0.95512117 0.95989192\n",
      " 0.96635143 0.96246728 0.92295027 0.9598497  0.98792536 0.98594106\n",
      " 0.92531453 0.92172591 0.96474711 0.97572406 0.99159841 0.96972895\n",
      " 0.97614625 0.96795575 1.         0.99016297 0.99050072 0.96538039\n",
      " 0.98488559 0.97086887 0.94026007 0.87748037 0.83483915 0.85413324\n",
      " 0.77336823 0.77269273 0.88014017 0.84007431 0.89673225 0.85527316\n",
      " 0.83884995 0.74233725 0.82327113 0.78143207 0.6665963  0.7921557\n",
      " 0.64118044 0.68614371 0.66001013 0.65203074 0.58642236 0.56586169\n",
      " 0.66089673 0.65515494 0.70970193 0.66452757 0.69437642 0.69218104\n",
      " 0.63569197 0.65266402 0.63780292 0.7267162  0.71388162 0.74191506\n",
      " 0.75002111 0.77222832 0.83049059 0.8194292  0.8289707  0.8125475\n",
      " 0.78776492 0.75162543 0.78426074 0.77974331 0.81326522 0.8141096\n",
      " 0.79473106 0.83336148 0.85898843 0.83901883 0.85628641 0.87486279\n",
      " 0.88782403 0.90095415 0.92793211 0.948535   0.93333615 0.91746179\n",
      " 0.92544119 0.91771511 0.9483239  0.94064004 0.96635143 0.9563033\n",
      " 0.96491598 0.91911036 0.92458254 0.92898875 0.93237233 0.93487495\n",
      " 0.93667531 0.93794882 0.93884832 0.93949753]\n"
     ]
    },
    {
     "name": "stdout",
     "output_type": "stream",
     "text": [
      "9 day output [[0.9399898]]\n",
      "10 day input [0.93304061 0.94950604 0.96424048 0.95512117 0.95989192 0.96635143\n",
      " 0.96246728 0.92295027 0.9598497  0.98792536 0.98594106 0.92531453\n",
      " 0.92172591 0.96474711 0.97572406 0.99159841 0.96972895 0.97614625\n",
      " 0.96795575 1.         0.99016297 0.99050072 0.96538039 0.98488559\n",
      " 0.97086887 0.94026007 0.87748037 0.83483915 0.85413324 0.77336823\n",
      " 0.77269273 0.88014017 0.84007431 0.89673225 0.85527316 0.83884995\n",
      " 0.74233725 0.82327113 0.78143207 0.6665963  0.7921557  0.64118044\n",
      " 0.68614371 0.66001013 0.65203074 0.58642236 0.56586169 0.66089673\n",
      " 0.65515494 0.70970193 0.66452757 0.69437642 0.69218104 0.63569197\n",
      " 0.65266402 0.63780292 0.7267162  0.71388162 0.74191506 0.75002111\n",
      " 0.77222832 0.83049059 0.8194292  0.8289707  0.8125475  0.78776492\n",
      " 0.75162543 0.78426074 0.77974331 0.81326522 0.8141096  0.79473106\n",
      " 0.83336148 0.85898843 0.83901883 0.85628641 0.87486279 0.88782403\n",
      " 0.90095415 0.92793211 0.948535   0.93333615 0.91746179 0.92544119\n",
      " 0.91771511 0.9483239  0.94064004 0.96635143 0.9563033  0.96491598\n",
      " 0.91911036 0.92458254 0.92898875 0.93237233 0.93487495 0.93667531\n",
      " 0.93794882 0.93884832 0.93949753 0.93998981]\n",
      "10 day output [[0.94039184]]\n",
      "11 day input [0.94950604 0.96424048 0.95512117 0.95989192 0.96635143 0.96246728\n",
      " 0.92295027 0.9598497  0.98792536 0.98594106 0.92531453 0.92172591\n",
      " 0.96474711 0.97572406 0.99159841 0.96972895 0.97614625 0.96795575\n",
      " 1.         0.99016297 0.99050072 0.96538039 0.98488559 0.97086887\n",
      " 0.94026007 0.87748037 0.83483915 0.85413324 0.77336823 0.77269273\n",
      " 0.88014017 0.84007431 0.89673225 0.85527316 0.83884995 0.74233725\n",
      " 0.82327113 0.78143207 0.6665963  0.7921557  0.64118044 0.68614371\n",
      " 0.66001013 0.65203074 0.58642236 0.56586169 0.66089673 0.65515494\n",
      " 0.70970193 0.66452757 0.69437642 0.69218104 0.63569197 0.65266402\n",
      " 0.63780292 0.7267162  0.71388162 0.74191506 0.75002111 0.77222832\n",
      " 0.83049059 0.8194292  0.8289707  0.8125475  0.78776492 0.75162543\n",
      " 0.78426074 0.77974331 0.81326522 0.8141096  0.79473106 0.83336148\n",
      " 0.85898843 0.83901883 0.85628641 0.87486279 0.88782403 0.90095415\n",
      " 0.92793211 0.948535   0.93333615 0.91746179 0.92544119 0.91771511\n",
      " 0.9483239  0.94064004 0.96635143 0.9563033  0.96491598 0.91911036\n",
      " 0.92458254 0.92898875 0.93237233 0.93487495 0.93667531 0.93794882\n",
      " 0.93884832 0.93949753 0.93998981 0.94039184]\n",
      "11 day output [[0.9407489]]\n",
      "12 day input [0.96424048 0.95512117 0.95989192 0.96635143 0.96246728 0.92295027\n",
      " 0.9598497  0.98792536 0.98594106 0.92531453 0.92172591 0.96474711\n",
      " 0.97572406 0.99159841 0.96972895 0.97614625 0.96795575 1.\n",
      " 0.99016297 0.99050072 0.96538039 0.98488559 0.97086887 0.94026007\n",
      " 0.87748037 0.83483915 0.85413324 0.77336823 0.77269273 0.88014017\n",
      " 0.84007431 0.89673225 0.85527316 0.83884995 0.74233725 0.82327113\n",
      " 0.78143207 0.6665963  0.7921557  0.64118044 0.68614371 0.66001013\n",
      " 0.65203074 0.58642236 0.56586169 0.66089673 0.65515494 0.70970193\n",
      " 0.66452757 0.69437642 0.69218104 0.63569197 0.65266402 0.63780292\n",
      " 0.7267162  0.71388162 0.74191506 0.75002111 0.77222832 0.83049059\n",
      " 0.8194292  0.8289707  0.8125475  0.78776492 0.75162543 0.78426074\n",
      " 0.77974331 0.81326522 0.8141096  0.79473106 0.83336148 0.85898843\n",
      " 0.83901883 0.85628641 0.87486279 0.88782403 0.90095415 0.92793211\n",
      " 0.948535   0.93333615 0.91746179 0.92544119 0.91771511 0.9483239\n",
      " 0.94064004 0.96635143 0.9563033  0.96491598 0.91911036 0.92458254\n",
      " 0.92898875 0.93237233 0.93487495 0.93667531 0.93794882 0.93884832\n",
      " 0.93949753 0.93998981 0.94039184 0.94074887]\n",
      "12 day output [[0.94108856]]\n",
      "13 day input [0.95512117 0.95989192 0.96635143 0.96246728 0.92295027 0.9598497\n",
      " 0.98792536 0.98594106 0.92531453 0.92172591 0.96474711 0.97572406\n",
      " 0.99159841 0.96972895 0.97614625 0.96795575 1.         0.99016297\n",
      " 0.99050072 0.96538039 0.98488559 0.97086887 0.94026007 0.87748037\n",
      " 0.83483915 0.85413324 0.77336823 0.77269273 0.88014017 0.84007431\n",
      " 0.89673225 0.85527316 0.83884995 0.74233725 0.82327113 0.78143207\n",
      " 0.6665963  0.7921557  0.64118044 0.68614371 0.66001013 0.65203074\n",
      " 0.58642236 0.56586169 0.66089673 0.65515494 0.70970193 0.66452757\n",
      " 0.69437642 0.69218104 0.63569197 0.65266402 0.63780292 0.7267162\n",
      " 0.71388162 0.74191506 0.75002111 0.77222832 0.83049059 0.8194292\n",
      " 0.8289707  0.8125475  0.78776492 0.75162543 0.78426074 0.77974331\n",
      " 0.81326522 0.8141096  0.79473106 0.83336148 0.85898843 0.83901883\n",
      " 0.85628641 0.87486279 0.88782403 0.90095415 0.92793211 0.948535\n",
      " 0.93333615 0.91746179 0.92544119 0.91771511 0.9483239  0.94064004\n",
      " 0.96635143 0.9563033  0.96491598 0.91911036 0.92458254 0.92898875\n",
      " 0.93237233 0.93487495 0.93667531 0.93794882 0.93884832 0.93949753\n",
      " 0.93998981 0.94039184 0.94074887 0.94108856]\n",
      "13 day output [[0.9414278]]\n",
      "14 day input [0.95989192 0.96635143 0.96246728 0.92295027 0.9598497  0.98792536\n",
      " 0.98594106 0.92531453 0.92172591 0.96474711 0.97572406 0.99159841\n",
      " 0.96972895 0.97614625 0.96795575 1.         0.99016297 0.99050072\n",
      " 0.96538039 0.98488559 0.97086887 0.94026007 0.87748037 0.83483915\n",
      " 0.85413324 0.77336823 0.77269273 0.88014017 0.84007431 0.89673225\n",
      " 0.85527316 0.83884995 0.74233725 0.82327113 0.78143207 0.6665963\n",
      " 0.7921557  0.64118044 0.68614371 0.66001013 0.65203074 0.58642236\n",
      " 0.56586169 0.66089673 0.65515494 0.70970193 0.66452757 0.69437642\n",
      " 0.69218104 0.63569197 0.65266402 0.63780292 0.7267162  0.71388162\n",
      " 0.74191506 0.75002111 0.77222832 0.83049059 0.8194292  0.8289707\n",
      " 0.8125475  0.78776492 0.75162543 0.78426074 0.77974331 0.81326522\n",
      " 0.8141096  0.79473106 0.83336148 0.85898843 0.83901883 0.85628641\n",
      " 0.87486279 0.88782403 0.90095415 0.92793211 0.948535   0.93333615\n",
      " 0.91746179 0.92544119 0.91771511 0.9483239  0.94064004 0.96635143\n",
      " 0.9563033  0.96491598 0.91911036 0.92458254 0.92898875 0.93237233\n",
      " 0.93487495 0.93667531 0.93794882 0.93884832 0.93949753 0.93998981\n",
      " 0.94039184 0.94074887 0.94108856 0.94142783]\n",
      "14 day output [[0.9417745]]\n",
      "15 day input [0.96635143 0.96246728 0.92295027 0.9598497  0.98792536 0.98594106\n",
      " 0.92531453 0.92172591 0.96474711 0.97572406 0.99159841 0.96972895\n",
      " 0.97614625 0.96795575 1.         0.99016297 0.99050072 0.96538039\n",
      " 0.98488559 0.97086887 0.94026007 0.87748037 0.83483915 0.85413324\n",
      " 0.77336823 0.77269273 0.88014017 0.84007431 0.89673225 0.85527316\n",
      " 0.83884995 0.74233725 0.82327113 0.78143207 0.6665963  0.7921557\n",
      " 0.64118044 0.68614371 0.66001013 0.65203074 0.58642236 0.56586169\n",
      " 0.66089673 0.65515494 0.70970193 0.66452757 0.69437642 0.69218104\n",
      " 0.63569197 0.65266402 0.63780292 0.7267162  0.71388162 0.74191506\n",
      " 0.75002111 0.77222832 0.83049059 0.8194292  0.8289707  0.8125475\n",
      " 0.78776492 0.75162543 0.78426074 0.77974331 0.81326522 0.8141096\n",
      " 0.79473106 0.83336148 0.85898843 0.83901883 0.85628641 0.87486279\n",
      " 0.88782403 0.90095415 0.92793211 0.948535   0.93333615 0.91746179\n",
      " 0.92544119 0.91771511 0.9483239  0.94064004 0.96635143 0.9563033\n",
      " 0.96491598 0.91911036 0.92458254 0.92898875 0.93237233 0.93487495\n",
      " 0.93667531 0.93794882 0.93884832 0.93949753 0.93998981 0.94039184\n",
      " 0.94074887 0.94108856 0.94142783 0.94177449]\n",
      "15 day output [[0.9421322]]\n",
      "16 day input [0.96246728 0.92295027 0.9598497  0.98792536 0.98594106 0.92531453\n",
      " 0.92172591 0.96474711 0.97572406 0.99159841 0.96972895 0.97614625\n",
      " 0.96795575 1.         0.99016297 0.99050072 0.96538039 0.98488559\n",
      " 0.97086887 0.94026007 0.87748037 0.83483915 0.85413324 0.77336823\n",
      " 0.77269273 0.88014017 0.84007431 0.89673225 0.85527316 0.83884995\n",
      " 0.74233725 0.82327113 0.78143207 0.6665963  0.7921557  0.64118044\n",
      " 0.68614371 0.66001013 0.65203074 0.58642236 0.56586169 0.66089673\n",
      " 0.65515494 0.70970193 0.66452757 0.69437642 0.69218104 0.63569197\n",
      " 0.65266402 0.63780292 0.7267162  0.71388162 0.74191506 0.75002111\n",
      " 0.77222832 0.83049059 0.8194292  0.8289707  0.8125475  0.78776492\n",
      " 0.75162543 0.78426074 0.77974331 0.81326522 0.8141096  0.79473106\n",
      " 0.83336148 0.85898843 0.83901883 0.85628641 0.87486279 0.88782403\n",
      " 0.90095415 0.92793211 0.948535   0.93333615 0.91746179 0.92544119\n",
      " 0.91771511 0.9483239  0.94064004 0.96635143 0.9563033  0.96491598\n",
      " 0.91911036 0.92458254 0.92898875 0.93237233 0.93487495 0.93667531\n",
      " 0.93794882 0.93884832 0.93949753 0.93998981 0.94039184 0.94074887\n",
      " 0.94108856 0.94142783 0.94177449 0.94213217]\n",
      "16 day output [[0.94250065]]\n",
      "17 day input [0.92295027 0.9598497  0.98792536 0.98594106 0.92531453 0.92172591\n",
      " 0.96474711 0.97572406 0.99159841 0.96972895 0.97614625 0.96795575\n",
      " 1.         0.99016297 0.99050072 0.96538039 0.98488559 0.97086887\n",
      " 0.94026007 0.87748037 0.83483915 0.85413324 0.77336823 0.77269273\n",
      " 0.88014017 0.84007431 0.89673225 0.85527316 0.83884995 0.74233725\n",
      " 0.82327113 0.78143207 0.6665963  0.7921557  0.64118044 0.68614371\n",
      " 0.66001013 0.65203074 0.58642236 0.56586169 0.66089673 0.65515494\n",
      " 0.70970193 0.66452757 0.69437642 0.69218104 0.63569197 0.65266402\n",
      " 0.63780292 0.7267162  0.71388162 0.74191506 0.75002111 0.77222832\n",
      " 0.83049059 0.8194292  0.8289707  0.8125475  0.78776492 0.75162543\n",
      " 0.78426074 0.77974331 0.81326522 0.8141096  0.79473106 0.83336148\n",
      " 0.85898843 0.83901883 0.85628641 0.87486279 0.88782403 0.90095415\n",
      " 0.92793211 0.948535   0.93333615 0.91746179 0.92544119 0.91771511\n",
      " 0.9483239  0.94064004 0.96635143 0.9563033  0.96491598 0.91911036\n",
      " 0.92458254 0.92898875 0.93237233 0.93487495 0.93667531 0.93794882\n",
      " 0.93884832 0.93949753 0.93998981 0.94039184 0.94074887 0.94108856\n",
      " 0.94142783 0.94177449 0.94213217 0.94250065]\n",
      "17 day output [[0.94287825]]\n",
      "18 day input [0.9598497  0.98792536 0.98594106 0.92531453 0.92172591 0.96474711\n",
      " 0.97572406 0.99159841 0.96972895 0.97614625 0.96795575 1.\n",
      " 0.99016297 0.99050072 0.96538039 0.98488559 0.97086887 0.94026007\n",
      " 0.87748037 0.83483915 0.85413324 0.77336823 0.77269273 0.88014017\n",
      " 0.84007431 0.89673225 0.85527316 0.83884995 0.74233725 0.82327113\n",
      " 0.78143207 0.6665963  0.7921557  0.64118044 0.68614371 0.66001013\n",
      " 0.65203074 0.58642236 0.56586169 0.66089673 0.65515494 0.70970193\n",
      " 0.66452757 0.69437642 0.69218104 0.63569197 0.65266402 0.63780292\n",
      " 0.7267162  0.71388162 0.74191506 0.75002111 0.77222832 0.83049059\n",
      " 0.8194292  0.8289707  0.8125475  0.78776492 0.75162543 0.78426074\n",
      " 0.77974331 0.81326522 0.8141096  0.79473106 0.83336148 0.85898843\n",
      " 0.83901883 0.85628641 0.87486279 0.88782403 0.90095415 0.92793211\n",
      " 0.948535   0.93333615 0.91746179 0.92544119 0.91771511 0.9483239\n",
      " 0.94064004 0.96635143 0.9563033  0.96491598 0.91911036 0.92458254\n",
      " 0.92898875 0.93237233 0.93487495 0.93667531 0.93794882 0.93884832\n",
      " 0.93949753 0.93998981 0.94039184 0.94074887 0.94108856 0.94142783\n",
      " 0.94177449 0.94213217 0.94250065 0.94287825]\n",
      "18 day output [[0.9432628]]\n",
      "19 day input [0.98792536 0.98594106 0.92531453 0.92172591 0.96474711 0.97572406\n",
      " 0.99159841 0.96972895 0.97614625 0.96795575 1.         0.99016297\n",
      " 0.99050072 0.96538039 0.98488559 0.97086887 0.94026007 0.87748037\n",
      " 0.83483915 0.85413324 0.77336823 0.77269273 0.88014017 0.84007431\n",
      " 0.89673225 0.85527316 0.83884995 0.74233725 0.82327113 0.78143207\n",
      " 0.6665963  0.7921557  0.64118044 0.68614371 0.66001013 0.65203074\n",
      " 0.58642236 0.56586169 0.66089673 0.65515494 0.70970193 0.66452757\n",
      " 0.69437642 0.69218104 0.63569197 0.65266402 0.63780292 0.7267162\n",
      " 0.71388162 0.74191506 0.75002111 0.77222832 0.83049059 0.8194292\n",
      " 0.8289707  0.8125475  0.78776492 0.75162543 0.78426074 0.77974331\n",
      " 0.81326522 0.8141096  0.79473106 0.83336148 0.85898843 0.83901883\n",
      " 0.85628641 0.87486279 0.88782403 0.90095415 0.92793211 0.948535\n",
      " 0.93333615 0.91746179 0.92544119 0.91771511 0.9483239  0.94064004\n",
      " 0.96635143 0.9563033  0.96491598 0.91911036 0.92458254 0.92898875\n",
      " 0.93237233 0.93487495 0.93667531 0.93794882 0.93884832 0.93949753\n",
      " 0.93998981 0.94039184 0.94074887 0.94108856 0.94142783 0.94177449\n",
      " 0.94213217 0.94250065 0.94287825 0.94326282]\n"
     ]
    },
    {
     "name": "stdout",
     "output_type": "stream",
     "text": [
      "19 day output [[0.9436519]]\n",
      "20 day input [0.98594106 0.92531453 0.92172591 0.96474711 0.97572406 0.99159841\n",
      " 0.96972895 0.97614625 0.96795575 1.         0.99016297 0.99050072\n",
      " 0.96538039 0.98488559 0.97086887 0.94026007 0.87748037 0.83483915\n",
      " 0.85413324 0.77336823 0.77269273 0.88014017 0.84007431 0.89673225\n",
      " 0.85527316 0.83884995 0.74233725 0.82327113 0.78143207 0.6665963\n",
      " 0.7921557  0.64118044 0.68614371 0.66001013 0.65203074 0.58642236\n",
      " 0.56586169 0.66089673 0.65515494 0.70970193 0.66452757 0.69437642\n",
      " 0.69218104 0.63569197 0.65266402 0.63780292 0.7267162  0.71388162\n",
      " 0.74191506 0.75002111 0.77222832 0.83049059 0.8194292  0.8289707\n",
      " 0.8125475  0.78776492 0.75162543 0.78426074 0.77974331 0.81326522\n",
      " 0.8141096  0.79473106 0.83336148 0.85898843 0.83901883 0.85628641\n",
      " 0.87486279 0.88782403 0.90095415 0.92793211 0.948535   0.93333615\n",
      " 0.91746179 0.92544119 0.91771511 0.9483239  0.94064004 0.96635143\n",
      " 0.9563033  0.96491598 0.91911036 0.92458254 0.92898875 0.93237233\n",
      " 0.93487495 0.93667531 0.93794882 0.93884832 0.93949753 0.93998981\n",
      " 0.94039184 0.94074887 0.94108856 0.94142783 0.94177449 0.94213217\n",
      " 0.94250065 0.94287825 0.94326282 0.94365191]\n",
      "20 day output [[0.94404393]]\n",
      "21 day input [0.92531453 0.92172591 0.96474711 0.97572406 0.99159841 0.96972895\n",
      " 0.97614625 0.96795575 1.         0.99016297 0.99050072 0.96538039\n",
      " 0.98488559 0.97086887 0.94026007 0.87748037 0.83483915 0.85413324\n",
      " 0.77336823 0.77269273 0.88014017 0.84007431 0.89673225 0.85527316\n",
      " 0.83884995 0.74233725 0.82327113 0.78143207 0.6665963  0.7921557\n",
      " 0.64118044 0.68614371 0.66001013 0.65203074 0.58642236 0.56586169\n",
      " 0.66089673 0.65515494 0.70970193 0.66452757 0.69437642 0.69218104\n",
      " 0.63569197 0.65266402 0.63780292 0.7267162  0.71388162 0.74191506\n",
      " 0.75002111 0.77222832 0.83049059 0.8194292  0.8289707  0.8125475\n",
      " 0.78776492 0.75162543 0.78426074 0.77974331 0.81326522 0.8141096\n",
      " 0.79473106 0.83336148 0.85898843 0.83901883 0.85628641 0.87486279\n",
      " 0.88782403 0.90095415 0.92793211 0.948535   0.93333615 0.91746179\n",
      " 0.92544119 0.91771511 0.9483239  0.94064004 0.96635143 0.9563033\n",
      " 0.96491598 0.91911036 0.92458254 0.92898875 0.93237233 0.93487495\n",
      " 0.93667531 0.93794882 0.93884832 0.93949753 0.93998981 0.94039184\n",
      " 0.94074887 0.94108856 0.94142783 0.94177449 0.94213217 0.94250065\n",
      " 0.94287825 0.94326282 0.94365191 0.94404393]\n",
      "21 day output [[0.9444364]]\n",
      "22 day input [0.92172591 0.96474711 0.97572406 0.99159841 0.96972895 0.97614625\n",
      " 0.96795575 1.         0.99016297 0.99050072 0.96538039 0.98488559\n",
      " 0.97086887 0.94026007 0.87748037 0.83483915 0.85413324 0.77336823\n",
      " 0.77269273 0.88014017 0.84007431 0.89673225 0.85527316 0.83884995\n",
      " 0.74233725 0.82327113 0.78143207 0.6665963  0.7921557  0.64118044\n",
      " 0.68614371 0.66001013 0.65203074 0.58642236 0.56586169 0.66089673\n",
      " 0.65515494 0.70970193 0.66452757 0.69437642 0.69218104 0.63569197\n",
      " 0.65266402 0.63780292 0.7267162  0.71388162 0.74191506 0.75002111\n",
      " 0.77222832 0.83049059 0.8194292  0.8289707  0.8125475  0.78776492\n",
      " 0.75162543 0.78426074 0.77974331 0.81326522 0.8141096  0.79473106\n",
      " 0.83336148 0.85898843 0.83901883 0.85628641 0.87486279 0.88782403\n",
      " 0.90095415 0.92793211 0.948535   0.93333615 0.91746179 0.92544119\n",
      " 0.91771511 0.9483239  0.94064004 0.96635143 0.9563033  0.96491598\n",
      " 0.91911036 0.92458254 0.92898875 0.93237233 0.93487495 0.93667531\n",
      " 0.93794882 0.93884832 0.93949753 0.93998981 0.94039184 0.94074887\n",
      " 0.94108856 0.94142783 0.94177449 0.94213217 0.94250065 0.94287825\n",
      " 0.94326282 0.94365191 0.94404393 0.94443637]\n",
      "22 day output [[0.9448281]]\n",
      "23 day input [0.96474711 0.97572406 0.99159841 0.96972895 0.97614625 0.96795575\n",
      " 1.         0.99016297 0.99050072 0.96538039 0.98488559 0.97086887\n",
      " 0.94026007 0.87748037 0.83483915 0.85413324 0.77336823 0.77269273\n",
      " 0.88014017 0.84007431 0.89673225 0.85527316 0.83884995 0.74233725\n",
      " 0.82327113 0.78143207 0.6665963  0.7921557  0.64118044 0.68614371\n",
      " 0.66001013 0.65203074 0.58642236 0.56586169 0.66089673 0.65515494\n",
      " 0.70970193 0.66452757 0.69437642 0.69218104 0.63569197 0.65266402\n",
      " 0.63780292 0.7267162  0.71388162 0.74191506 0.75002111 0.77222832\n",
      " 0.83049059 0.8194292  0.8289707  0.8125475  0.78776492 0.75162543\n",
      " 0.78426074 0.77974331 0.81326522 0.8141096  0.79473106 0.83336148\n",
      " 0.85898843 0.83901883 0.85628641 0.87486279 0.88782403 0.90095415\n",
      " 0.92793211 0.948535   0.93333615 0.91746179 0.92544119 0.91771511\n",
      " 0.9483239  0.94064004 0.96635143 0.9563033  0.96491598 0.91911036\n",
      " 0.92458254 0.92898875 0.93237233 0.93487495 0.93667531 0.93794882\n",
      " 0.93884832 0.93949753 0.93998981 0.94039184 0.94074887 0.94108856\n",
      " 0.94142783 0.94177449 0.94213217 0.94250065 0.94287825 0.94326282\n",
      " 0.94365191 0.94404393 0.94443637 0.94482809]\n",
      "23 day output [[0.9452181]]\n",
      "24 day input [0.97572406 0.99159841 0.96972895 0.97614625 0.96795575 1.\n",
      " 0.99016297 0.99050072 0.96538039 0.98488559 0.97086887 0.94026007\n",
      " 0.87748037 0.83483915 0.85413324 0.77336823 0.77269273 0.88014017\n",
      " 0.84007431 0.89673225 0.85527316 0.83884995 0.74233725 0.82327113\n",
      " 0.78143207 0.6665963  0.7921557  0.64118044 0.68614371 0.66001013\n",
      " 0.65203074 0.58642236 0.56586169 0.66089673 0.65515494 0.70970193\n",
      " 0.66452757 0.69437642 0.69218104 0.63569197 0.65266402 0.63780292\n",
      " 0.7267162  0.71388162 0.74191506 0.75002111 0.77222832 0.83049059\n",
      " 0.8194292  0.8289707  0.8125475  0.78776492 0.75162543 0.78426074\n",
      " 0.77974331 0.81326522 0.8141096  0.79473106 0.83336148 0.85898843\n",
      " 0.83901883 0.85628641 0.87486279 0.88782403 0.90095415 0.92793211\n",
      " 0.948535   0.93333615 0.91746179 0.92544119 0.91771511 0.9483239\n",
      " 0.94064004 0.96635143 0.9563033  0.96491598 0.91911036 0.92458254\n",
      " 0.92898875 0.93237233 0.93487495 0.93667531 0.93794882 0.93884832\n",
      " 0.93949753 0.93998981 0.94039184 0.94074887 0.94108856 0.94142783\n",
      " 0.94177449 0.94213217 0.94250065 0.94287825 0.94326282 0.94365191\n",
      " 0.94404393 0.94443637 0.94482809 0.94521809]\n",
      "24 day output [[0.9456057]]\n",
      "25 day input [0.99159841 0.96972895 0.97614625 0.96795575 1.         0.99016297\n",
      " 0.99050072 0.96538039 0.98488559 0.97086887 0.94026007 0.87748037\n",
      " 0.83483915 0.85413324 0.77336823 0.77269273 0.88014017 0.84007431\n",
      " 0.89673225 0.85527316 0.83884995 0.74233725 0.82327113 0.78143207\n",
      " 0.6665963  0.7921557  0.64118044 0.68614371 0.66001013 0.65203074\n",
      " 0.58642236 0.56586169 0.66089673 0.65515494 0.70970193 0.66452757\n",
      " 0.69437642 0.69218104 0.63569197 0.65266402 0.63780292 0.7267162\n",
      " 0.71388162 0.74191506 0.75002111 0.77222832 0.83049059 0.8194292\n",
      " 0.8289707  0.8125475  0.78776492 0.75162543 0.78426074 0.77974331\n",
      " 0.81326522 0.8141096  0.79473106 0.83336148 0.85898843 0.83901883\n",
      " 0.85628641 0.87486279 0.88782403 0.90095415 0.92793211 0.948535\n",
      " 0.93333615 0.91746179 0.92544119 0.91771511 0.9483239  0.94064004\n",
      " 0.96635143 0.9563033  0.96491598 0.91911036 0.92458254 0.92898875\n",
      " 0.93237233 0.93487495 0.93667531 0.93794882 0.93884832 0.93949753\n",
      " 0.93998981 0.94039184 0.94074887 0.94108856 0.94142783 0.94177449\n",
      " 0.94213217 0.94250065 0.94287825 0.94326282 0.94365191 0.94404393\n",
      " 0.94443637 0.94482809 0.94521809 0.9456057 ]\n",
      "25 day output [[0.9459901]]\n",
      "26 day input [0.96972895 0.97614625 0.96795575 1.         0.99016297 0.99050072\n",
      " 0.96538039 0.98488559 0.97086887 0.94026007 0.87748037 0.83483915\n",
      " 0.85413324 0.77336823 0.77269273 0.88014017 0.84007431 0.89673225\n",
      " 0.85527316 0.83884995 0.74233725 0.82327113 0.78143207 0.6665963\n",
      " 0.7921557  0.64118044 0.68614371 0.66001013 0.65203074 0.58642236\n",
      " 0.56586169 0.66089673 0.65515494 0.70970193 0.66452757 0.69437642\n",
      " 0.69218104 0.63569197 0.65266402 0.63780292 0.7267162  0.71388162\n",
      " 0.74191506 0.75002111 0.77222832 0.83049059 0.8194292  0.8289707\n",
      " 0.8125475  0.78776492 0.75162543 0.78426074 0.77974331 0.81326522\n",
      " 0.8141096  0.79473106 0.83336148 0.85898843 0.83901883 0.85628641\n",
      " 0.87486279 0.88782403 0.90095415 0.92793211 0.948535   0.93333615\n",
      " 0.91746179 0.92544119 0.91771511 0.9483239  0.94064004 0.96635143\n",
      " 0.9563033  0.96491598 0.91911036 0.92458254 0.92898875 0.93237233\n",
      " 0.93487495 0.93667531 0.93794882 0.93884832 0.93949753 0.93998981\n",
      " 0.94039184 0.94074887 0.94108856 0.94142783 0.94177449 0.94213217\n",
      " 0.94250065 0.94287825 0.94326282 0.94365191 0.94404393 0.94443637\n",
      " 0.94482809 0.94521809 0.9456057  0.94599009]\n",
      "26 day output [[0.94637066]]\n",
      "27 day input [0.97614625 0.96795575 1.         0.99016297 0.99050072 0.96538039\n",
      " 0.98488559 0.97086887 0.94026007 0.87748037 0.83483915 0.85413324\n",
      " 0.77336823 0.77269273 0.88014017 0.84007431 0.89673225 0.85527316\n",
      " 0.83884995 0.74233725 0.82327113 0.78143207 0.6665963  0.7921557\n",
      " 0.64118044 0.68614371 0.66001013 0.65203074 0.58642236 0.56586169\n",
      " 0.66089673 0.65515494 0.70970193 0.66452757 0.69437642 0.69218104\n",
      " 0.63569197 0.65266402 0.63780292 0.7267162  0.71388162 0.74191506\n",
      " 0.75002111 0.77222832 0.83049059 0.8194292  0.8289707  0.8125475\n",
      " 0.78776492 0.75162543 0.78426074 0.77974331 0.81326522 0.8141096\n",
      " 0.79473106 0.83336148 0.85898843 0.83901883 0.85628641 0.87486279\n",
      " 0.88782403 0.90095415 0.92793211 0.948535   0.93333615 0.91746179\n",
      " 0.92544119 0.91771511 0.9483239  0.94064004 0.96635143 0.9563033\n",
      " 0.96491598 0.91911036 0.92458254 0.92898875 0.93237233 0.93487495\n",
      " 0.93667531 0.93794882 0.93884832 0.93949753 0.93998981 0.94039184\n",
      " 0.94074887 0.94108856 0.94142783 0.94177449 0.94213217 0.94250065\n",
      " 0.94287825 0.94326282 0.94365191 0.94404393 0.94443637 0.94482809\n",
      " 0.94521809 0.9456057  0.94599009 0.94637066]\n"
     ]
    },
    {
     "name": "stdout",
     "output_type": "stream",
     "text": [
      "27 day output [[0.9467477]]\n",
      "28 day input [0.96795575 1.         0.99016297 0.99050072 0.96538039 0.98488559\n",
      " 0.97086887 0.94026007 0.87748037 0.83483915 0.85413324 0.77336823\n",
      " 0.77269273 0.88014017 0.84007431 0.89673225 0.85527316 0.83884995\n",
      " 0.74233725 0.82327113 0.78143207 0.6665963  0.7921557  0.64118044\n",
      " 0.68614371 0.66001013 0.65203074 0.58642236 0.56586169 0.66089673\n",
      " 0.65515494 0.70970193 0.66452757 0.69437642 0.69218104 0.63569197\n",
      " 0.65266402 0.63780292 0.7267162  0.71388162 0.74191506 0.75002111\n",
      " 0.77222832 0.83049059 0.8194292  0.8289707  0.8125475  0.78776492\n",
      " 0.75162543 0.78426074 0.77974331 0.81326522 0.8141096  0.79473106\n",
      " 0.83336148 0.85898843 0.83901883 0.85628641 0.87486279 0.88782403\n",
      " 0.90095415 0.92793211 0.948535   0.93333615 0.91746179 0.92544119\n",
      " 0.91771511 0.9483239  0.94064004 0.96635143 0.9563033  0.96491598\n",
      " 0.91911036 0.92458254 0.92898875 0.93237233 0.93487495 0.93667531\n",
      " 0.93794882 0.93884832 0.93949753 0.93998981 0.94039184 0.94074887\n",
      " 0.94108856 0.94142783 0.94177449 0.94213217 0.94250065 0.94287825\n",
      " 0.94326282 0.94365191 0.94404393 0.94443637 0.94482809 0.94521809\n",
      " 0.9456057  0.94599009 0.94637066 0.94674772]\n",
      "28 day output [[0.9471206]]\n",
      "29 day input [1.         0.99016297 0.99050072 0.96538039 0.98488559 0.97086887\n",
      " 0.94026007 0.87748037 0.83483915 0.85413324 0.77336823 0.77269273\n",
      " 0.88014017 0.84007431 0.89673225 0.85527316 0.83884995 0.74233725\n",
      " 0.82327113 0.78143207 0.6665963  0.7921557  0.64118044 0.68614371\n",
      " 0.66001013 0.65203074 0.58642236 0.56586169 0.66089673 0.65515494\n",
      " 0.70970193 0.66452757 0.69437642 0.69218104 0.63569197 0.65266402\n",
      " 0.63780292 0.7267162  0.71388162 0.74191506 0.75002111 0.77222832\n",
      " 0.83049059 0.8194292  0.8289707  0.8125475  0.78776492 0.75162543\n",
      " 0.78426074 0.77974331 0.81326522 0.8141096  0.79473106 0.83336148\n",
      " 0.85898843 0.83901883 0.85628641 0.87486279 0.88782403 0.90095415\n",
      " 0.92793211 0.948535   0.93333615 0.91746179 0.92544119 0.91771511\n",
      " 0.9483239  0.94064004 0.96635143 0.9563033  0.96491598 0.91911036\n",
      " 0.92458254 0.92898875 0.93237233 0.93487495 0.93667531 0.93794882\n",
      " 0.93884832 0.93949753 0.93998981 0.94039184 0.94074887 0.94108856\n",
      " 0.94142783 0.94177449 0.94213217 0.94250065 0.94287825 0.94326282\n",
      " 0.94365191 0.94404393 0.94443637 0.94482809 0.94521809 0.9456057\n",
      " 0.94599009 0.94637066 0.94674772 0.94712061]\n",
      "29 day output [[0.9474895]]\n",
      "[[0.9191103577613831], [0.9245825409889221], [0.9289887547492981], [0.9323723316192627], [0.934874951839447], [0.9366753101348877], [0.9379488229751587], [0.9388483166694641], [0.9394975304603577], [0.9399898052215576], [0.9403918385505676], [0.9407488703727722], [0.9410885572433472], [0.9414278268814087], [0.9417744874954224], [0.9421321749687195], [0.942500650882721], [0.942878246307373], [0.9432628154754639], [0.9436519145965576], [0.9440439343452454], [0.9444363713264465], [0.9448280930519104], [0.9452180862426758], [0.9456056952476501], [0.9459900856018066], [0.9463706612586975], [0.9467477202415466], [0.9471206068992615], [0.9474895000457764]]\n"
     ]
    }
   ],
   "source": [
    "# demonstrate prediction for next 10 days\n",
    "from numpy import array\n",
    "\n",
    "lst_output=[]\n",
    "n_steps=100\n",
    "i=0\n",
    "while(i<30):\n",
    "\n",
    "    if(len(temp_input)>100):\n",
    "        #print(temp_input)\n",
    "        x_input=np.array(temp_input[1:])\n",
    "        print(\"{} day input {}\".format(i,x_input))\n",
    "        x_input=x_input.reshape(1,-1)\n",
    "        x_input = x_input.reshape((1, n_steps, 1))\n",
    "        #print(x_input)\n",
    "        yhat = model.predict(x_input, verbose=0)\n",
    "        print(\"{} day output {}\".format(i,yhat))\n",
    "        temp_input.extend(yhat[0].tolist())\n",
    "        temp_input=temp_input[1:]\n",
    "        #print(temp_input)\n",
    "        lst_output.extend(yhat.tolist())\n",
    "        i=i+1\n",
    "    else:\n",
    "        x_input = x_input.reshape((1, n_steps,1))\n",
    "        yhat = model.predict(x_input, verbose=0)\n",
    "        print(yhat[0])\n",
    "        temp_input.extend(yhat[0].tolist())\n",
    "        print(len(temp_input))\n",
    "        lst_output.extend(yhat.tolist())\n",
    "        i=i+1\n",
    "\n",
    "\n",
    "print(lst_output)"
   ]
  },
  {
   "cell_type": "code",
   "execution_count": 38,
   "metadata": {
    "id": "pYRdKkls3oit"
   },
   "outputs": [],
   "source": [
    "day_new=np.arange(1,101)\n",
    "day_pred=np.arange(101,131)"
   ]
  },
  {
   "cell_type": "code",
   "execution_count": 39,
   "metadata": {
    "id": "EFlVbW4E3wuz"
   },
   "outputs": [],
   "source": [
    "import matplotlib.pyplot as plt"
   ]
  },
  {
   "cell_type": "code",
   "execution_count": 40,
   "metadata": {
    "colab": {
     "base_uri": "https://localhost:8080/"
    },
    "id": "Wrr3BZzv3048",
    "outputId": "da4d54de-aec6-4bf8-f2cd-9766f492b2f8"
   },
   "outputs": [
    {
     "data": {
      "text/plain": [
       "1258"
      ]
     },
     "execution_count": 40,
     "metadata": {},
     "output_type": "execute_result"
    }
   ],
   "source": [
    "len(df1)"
   ]
  },
  {
   "cell_type": "code",
   "execution_count": 41,
   "metadata": {
    "colab": {
     "base_uri": "https://localhost:8080/",
     "height": 447
    },
    "id": "ED91eyP4371a",
    "outputId": "d08ee5e6-6a96-450c-9191-9a8c7bc8e3eb"
   },
   "outputs": [
    {
     "data": {
      "text/plain": [
       "[<matplotlib.lines.Line2D at 0x13a76629bb0>]"
      ]
     },
     "execution_count": 41,
     "metadata": {},
     "output_type": "execute_result"
    },
    {
     "data": {
      "image/png": "[encoded data removed]",
      "text/plain": [
       "<Figure size 432x288 with 1 Axes>"
      ]
     },
     "metadata": {
      "needs_background": "light"
     },
     "output_type": "display_data"
    }
   ],
   "source": [
    "plt.plot(day_new,scaler.inverse_transform(df1[1158:]))\n",
    "plt.plot(day_pred,scaler.inverse_transform(lst_output))"
   ]
  },
  {
   "cell_type": "code",
   "execution_count": 42,
   "metadata": {
    "colab": {
     "base_uri": "https://localhost:8080/",
     "height": 447
    },
    "id": "oxEL9ihR4Hhc",
    "outputId": "eb6a60f3-cb89-4b5e-f1cb-9175ab777e3f"
   },
   "outputs": [
    {
     "data": {
      "text/plain": [
       "[<matplotlib.lines.Line2D at 0x13a766a7bb0>]"
      ]
     },
     "execution_count": 42,
     "metadata": {},
     "output_type": "execute_result"
    },
    {
     "data": {
      "image/png": "[encoded data removed]",
      "text/plain": [
       "<Figure size 432x288 with 1 Axes>"
      ]
     },
     "metadata": {
      "needs_background": "light"
     },
     "output_type": "display_data"
    }
   ],
   "source": [
    "df3=df1.tolist()\n",
    "df3.extend(lst_output)\n",
    "plt.plot(df3[1200:])"
   ]
  },
  {
   "cell_type": "code",
   "execution_count": 43,
   "metadata": {
    "id": "MczxRgPv4Rhc"
   },
   "outputs": [],
   "source": [
    "df3=scaler.inverse_transform(df3).tolist()"
   ]
  },
  {
   "cell_type": "code",
   "execution_count": 44,
   "metadata": {
    "colab": {
     "base_uri": "https://localhost:8080/",
     "height": 447
    },
    "id": "uGpvMgcd4YmC",
    "outputId": "97007fcc-3d71-4b24-ec10-c249454429b3"
   },
   "outputs": [
    {
     "data": {
      "text/plain": [
       "[<matplotlib.lines.Line2D at 0x13a7678d250>]"
      ]
     },
     "execution_count": 44,
     "metadata": {},
     "output_type": "execute_result"
    },
    {
     "data": {
      "image/png": "[encoded data removed]",
      "text/plain": [
       "<Figure size 432x288 with 1 Axes>"
      ]
     },
     "metadata": {
      "needs_background": "light"
     },
     "output_type": "display_data"
    }
   ],
   "source": [
    "plt.plot(df3)"
   ]
  },
  {
   "cell_type": "code",
   "execution_count": null,
   "metadata": {},
   "outputs": [],
   "source": []
  }
 ],
 "metadata": {
  "colab": {
   "provenance": []
  },
  "kernelspec": {
   "display_name": "Python 3 (ipykernel)",
   "language": "python",
   "name": "python3"
  },
  "language_info": {
   "codemirror_mode": {
    "name": "ipython",
    "version": 3
   },
   "file_extension": ".py",
   "mimetype": "text/x-python",
   "name": "python",
   "nbconvert_exporter": "python",
   "pygments_lexer": "ipython3",
   "version": "3.9.7"
  }
 },
 "nbformat": 4,
 "nbformat_minor": 1
}
